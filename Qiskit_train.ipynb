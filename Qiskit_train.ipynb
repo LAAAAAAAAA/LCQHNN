{
 "cells": [
  {
   "cell_type": "code",
   "execution_count": 10,
   "metadata": {},
   "outputs": [],
   "source": [
    "# Necessary imports\n",
    "\n",
    "import numpy as np\n",
    "import matplotlib.pyplot as plt\n",
    "\n",
    "from torch import Tensor\n",
    "from torch.nn import Linear, CrossEntropyLoss, MSELoss\n",
    "from torch.optim import LBFGS\n",
    "\n",
    "from qiskit import QuantumCircuit\n",
    "from qiskit.circuit import Parameter\n",
    "from qiskit.circuit.library import RealAmplitudes, ZZFeatureMap\n",
    "#from qiskit_machine_learning.utils import algorithm_globals\n",
    "from qiskit_machine_learning.neural_networks import SamplerQNN, EstimatorQNN\n",
    "from qiskit_machine_learning.connectors import TorchConnector\n",
    "\n",
    "# Set seed for random generators\n",
    "#algorithm_globals.random_seed = 42"
   ]
  },
  {
   "cell_type": "code",
   "execution_count": 11,
   "metadata": {},
   "outputs": [],
   "source": [
    "# Additional torch-related imports\n",
    "import torch\n",
    "from torch import cat, no_grad, manual_seed\n",
    "from torch.utils.data import DataLoader\n",
    "from torchvision import datasets, transforms\n",
    "import torch.optim as optim\n",
    "from torch.nn import (\n",
    "    Module,\n",
    "    Conv2d,\n",
    "    Linear,\n",
    "    Dropout2d,\n",
    "    NLLLoss,\n",
    "    MaxPool2d,\n",
    "    Flatten,\n",
    "    Sequential,\n",
    "    ReLU,\n",
    ")\n",
    "import torch.nn.functional as F\n",
    "import numpy as np"
   ]
  },
  {
   "cell_type": "code",
   "execution_count": 12,
   "metadata": {},
   "outputs": [],
   "source": [
    "from qiskit.primitives import Estimator\n",
    "\n",
    "estimator = Estimator()"
   ]
  },
  {
   "cell_type": "markdown",
   "metadata": {},
   "source": [
    "# MNIST & FashionMNIST"
   ]
  },
  {
   "cell_type": "code",
   "execution_count": 13,
   "metadata": {},
   "outputs": [],
   "source": [
    "# # Train Dataset\n",
    "# # -------------\n",
    "\n",
    "# # Set train shuffle seed (for reproducibility)\n",
    "# manual_seed(42)\n",
    "\n",
    "# batch_size = 64\n",
    "# n_samples = 1024  # We will concentrate on the first 100 samples\n",
    "\n",
    "# # Use pre-defined torchvision function to load MNIST train data\n",
    "# X_train = datasets.FashionMNIST(\n",
    "#     root=\"./data\", train=True, download=True, transform=transforms.Compose([transforms.ToTensor()])\n",
    "# )\n",
    "\n",
    "# # Filter out labels (originally 0-9), leaving only labels 0 and 1\n",
    "# idx = np.append(\n",
    "#     np.where(X_train.targets == 0)[0][:n_samples], np.where(X_train.targets == 1)[0][:n_samples]\n",
    "# )\n",
    "# X_train.data = X_train.data[idx]\n",
    "# X_train.targets = X_train.targets[idx]\n",
    "\n",
    "# # Define torch dataloader with filtered data\n",
    "# train_loader = DataLoader(X_train, batch_size=batch_size, shuffle=True)"
   ]
  },
  {
   "cell_type": "code",
   "execution_count": 14,
   "metadata": {},
   "outputs": [],
   "source": [
    "# n_samples_show = 6\n",
    "\n",
    "# data_iter = iter(train_loader)\n",
    "# fig, axes = plt.subplots(nrows=1, ncols=n_samples_show, figsize=(10, 3))\n",
    "\n",
    "# while n_samples_show > 0:\n",
    "#     images, targets = data_iter.__next__()\n",
    "\n",
    "#     axes[n_samples_show - 1].imshow(images[0, 0].numpy().squeeze(), cmap=\"gray\")\n",
    "#     axes[n_samples_show - 1].set_xticks([])\n",
    "#     axes[n_samples_show - 1].set_yticks([])\n",
    "#     axes[n_samples_show - 1].set_title(\"Labeled: {}\".format(targets[0].item()))\n",
    "\n",
    "#     n_samples_show -= 1"
   ]
  },
  {
   "cell_type": "code",
   "execution_count": 15,
   "metadata": {},
   "outputs": [],
   "source": [
    "# n_samples = 512\n",
    "\n",
    "# # Use pre-defined torchvision function to load MNIST test data\n",
    "# X_test = datasets.FashionMNIST(\n",
    "#     root=\"./data\", train=False, download=True, transform=transforms.Compose([transforms.ToTensor()])\n",
    "# )\n",
    "\n",
    "# # Filter out labels (originally 0-9), leaving only labels 0 and 1\n",
    "# idx = np.append(\n",
    "#     np.where(X_test.targets == 0)[0][:n_samples], np.where(X_test.targets == 1)[0][:n_samples]\n",
    "# )\n",
    "# X_test.data = X_test.data[idx]\n",
    "# X_test.targets = X_test.targets[idx]\n",
    "\n",
    "# # Define torch dataloader with filtered data\n",
    "# test_loader = DataLoader(X_test, batch_size=batch_size, shuffle=True)"
   ]
  },
  {
   "cell_type": "code",
   "execution_count": 16,
   "metadata": {},
   "outputs": [],
   "source": [
    "# CIFAR10"
   ]
  },
  {
   "cell_type": "code",
   "execution_count": 17,
   "metadata": {},
   "outputs": [
    {
     "name": "stdout",
     "output_type": "stream",
     "text": [
      "Files already downloaded and verified\n"
     ]
    }
   ],
   "source": [
    "# Set random seed for reproducibility\n",
    "manual_seed(42)\n",
    "\n",
    "# Hyperparameters\n",
    "batch_size = 64\n",
    "n_samples = 1024  # Number of samples per class\n",
    "\n",
    "# Load MNIST dataset\n",
    "X_train = datasets.CIFAR10(\n",
    "    root=\"./data\", \n",
    "    train=True, \n",
    "    download=True, \n",
    "    transform=transforms.Compose([transforms.ToTensor()])\n",
    ")\n",
    "\n",
    "# Convert targets to NumPy array for easier indexing\n",
    "targets_np = np.array(X_train.targets)\n",
    "\n",
    "# Filter indices for labels 0 and 1\n",
    "label_0_idx = np.where(targets_np == 0)[0][:n_samples]  # Indices for label 0\n",
    "label_1_idx = np.where(targets_np == 1)[0][:n_samples]  # Indices for label 1\n",
    "\n",
    "# Combine indices\n",
    "idx = np.concatenate([label_0_idx, label_1_idx])\n",
    "\n",
    "# Filter data and targets\n",
    "X_train.data = X_train.data[idx]\n",
    "X_train.targets = targets_np[idx].tolist()  # Convert back to list for compatibility\n",
    "\n",
    "# Create DataLoader\n",
    "train_loader = DataLoader(X_train, batch_size=batch_size, shuffle=True)"
   ]
  },
  {
   "cell_type": "code",
   "execution_count": 18,
   "metadata": {},
   "outputs": [
    {
     "name": "stdout",
     "output_type": "stream",
     "text": [
      "Files already downloaded and verified\n"
     ]
    }
   ],
   "source": [
    "# Set random seed for reproducibility\n",
    "manual_seed(42)\n",
    "\n",
    "# Hyperparameters\n",
    "batch_size = 64\n",
    "n_samples = 512  # Number of samples per class\n",
    "\n",
    "# Load MNIST dataset\n",
    "X_test = datasets.CIFAR10(\n",
    "    root=\"./data\", \n",
    "    train=False, \n",
    "    download=True, \n",
    "    transform=transforms.Compose([transforms.ToTensor()])\n",
    ")\n",
    "\n",
    "# Convert targets to NumPy array for easier indexing\n",
    "targets_np = np.array(X_test.targets)\n",
    "\n",
    "# Filter indices for labels 0 and 1\n",
    "label_0_idx = np.where(targets_np == 0)[0][:n_samples]  # Indices for label 0\n",
    "label_1_idx = np.where(targets_np == 1)[0][:n_samples]  # Indices for label 1\n",
    "\n",
    "# Combine indices\n",
    "idx = np.concatenate([label_0_idx, label_1_idx])\n",
    "\n",
    "# Filter data and targets\n",
    "X_test.data = X_test.data[idx]\n",
    "X_test.targets = targets_np[idx].tolist()  # Convert back to list for compatibility\n",
    "\n",
    "# Create DataLoader\n",
    "test_loader = DataLoader(X_test, batch_size=batch_size, shuffle=True)"
   ]
  },
  {
   "cell_type": "code",
   "execution_count": 19,
   "metadata": {},
   "outputs": [],
   "source": [
    "def create_qnn():\n",
    "    feature_map = ZZFeatureMap(4)\n",
    "    ansatz = RealAmplitudes(4, reps=1)\n",
    "    qc = QuantumCircuit(4)\n",
    "    qc.compose(feature_map, inplace=True)\n",
    "    qc.compose(ansatz, inplace=True)\n",
    "\n",
    "    # REMEMBER TO SET input_gradients=True FOR ENABLING HYBRID GRADIENT BACKPROP\n",
    "    qnn = EstimatorQNN(\n",
    "        circuit=qc,\n",
    "        input_params=feature_map.parameters,\n",
    "        weight_params=ansatz.parameters,\n",
    "        input_gradients=True,\n",
    "        estimator=estimator,\n",
    "    )\n",
    "    return qnn\n",
    "\n",
    "\n",
    "qnn4 = create_qnn()"
   ]
  },
  {
   "cell_type": "code",
   "execution_count": 20,
   "metadata": {},
   "outputs": [],
   "source": [
    "class Net(Module):\n",
    "    def __init__(self, qnn):\n",
    "        super().__init__()\n",
    "        self.conv1 = Conv2d(3, 2, kernel_size=5)\n",
    "        self.conv2 = Conv2d(2, 16, kernel_size=5)\n",
    "        self.dropout = Dropout2d()\n",
    "        self.fc1 = Linear(400, 64)\n",
    "        self.fc2 = Linear(64, 4)  # 2-dimensional input to QNN\n",
    "        self.qnn = TorchConnector(qnn)  # Apply torch connector, weights chosen\n",
    "        # uniformly at random from interval [-1,1].\n",
    "        self.fc3 = Linear(1, 1)  # 1-dimensional output from QNN\n",
    "\n",
    "    def forward(self, x):\n",
    "        x = F.relu(self.conv1(x))\n",
    "        x = F.max_pool2d(x, 2)\n",
    "        x = F.relu(self.conv2(x))\n",
    "        x = F.max_pool2d(x, 2)\n",
    "        x = self.dropout(x)\n",
    "        x = x.view(x.shape[0], -1)\n",
    "        x = F.relu(self.fc1(x))\n",
    "        x = self.fc2(x)\n",
    "        x = self.qnn(x)  # apply QNN\n",
    "        x = self.fc3(x)\n",
    "        return cat((x, 1 - x), -1)\n",
    "\n",
    "\n",
    "model4 = Net(qnn4)"
   ]
  },
  {
   "cell_type": "code",
   "execution_count": 21,
   "metadata": {},
   "outputs": [
    {
     "name": "stdout",
     "output_type": "stream",
     "text": [
      "Training [2%]\tLoss: -0.5050\n",
      "Training [4%]\tLoss: -0.5385\n",
      "Training [6%]\tLoss: -0.6186\n",
      "Training [8%]\tLoss: -0.7026\n",
      "Training [10%]\tLoss: -0.7744\n",
      "Training [12%]\tLoss: -0.8217\n",
      "Training [14%]\tLoss: -0.8675\n",
      "Training [16%]\tLoss: -0.9025\n",
      "Training [18%]\tLoss: -0.9386\n",
      "Training [20%]\tLoss: -0.9736\n",
      "Training [22%]\tLoss: -0.9878\n",
      "Training [24%]\tLoss: -1.0280\n",
      "Training [26%]\tLoss: -1.0945\n",
      "Training [28%]\tLoss: -1.1181\n",
      "Training [30%]\tLoss: -1.1302\n",
      "Training [32%]\tLoss: -1.1778\n",
      "Training [34%]\tLoss: -1.1939\n",
      "Training [36%]\tLoss: -1.2611\n",
      "Training [38%]\tLoss: -1.2723\n",
      "Training [40%]\tLoss: -1.2918\n",
      "Training [42%]\tLoss: -1.3103\n",
      "Training [44%]\tLoss: -1.3729\n",
      "Training [46%]\tLoss: -1.3986\n",
      "Training [48%]\tLoss: -1.4296\n",
      "Training [50%]\tLoss: -1.4650\n",
      "Training [52%]\tLoss: -1.4933\n",
      "Training [54%]\tLoss: -1.5235\n",
      "Training [56%]\tLoss: -1.5660\n",
      "Training [58%]\tLoss: -1.6244\n",
      "Training [60%]\tLoss: -1.6299\n",
      "Training [62%]\tLoss: -1.6938\n",
      "Training [64%]\tLoss: -1.7351\n",
      "Training [66%]\tLoss: -1.7478\n",
      "Training [68%]\tLoss: -1.7675\n",
      "Training [70%]\tLoss: -1.8056\n",
      "Training [72%]\tLoss: -1.8134\n",
      "Training [74%]\tLoss: -1.8661\n",
      "Training [76%]\tLoss: -1.8967\n",
      "Training [78%]\tLoss: -1.9090\n",
      "Training [80%]\tLoss: -1.9520\n",
      "Training [82%]\tLoss: -1.9946\n",
      "Training [84%]\tLoss: -2.0160\n",
      "Training [86%]\tLoss: -2.0384\n",
      "Training [88%]\tLoss: -2.0541\n",
      "Training [90%]\tLoss: -2.1231\n",
      "Training [92%]\tLoss: -2.1214\n",
      "Training [94%]\tLoss: -2.1701\n",
      "Training [96%]\tLoss: -2.1928\n",
      "Training [98%]\tLoss: -2.2160\n",
      "Training [100%]\tLoss: -2.2528\n"
     ]
    }
   ],
   "source": [
    "# Define model, optimizer, and loss function\n",
    "optimizer = optim.Adam(model4.parameters(), lr=0.001)\n",
    "loss_func = NLLLoss()\n",
    "\n",
    "# Start training\n",
    "epochs = 50  # Set number of epochs\n",
    "loss_list = []  # Store loss history\n",
    "model4.train()  # Set model to training mode\n",
    "\n",
    "for epoch in range(epochs):\n",
    "    total_loss = []\n",
    "    for batch_idx, (data, target) in enumerate(train_loader):\n",
    "        optimizer.zero_grad(set_to_none=True)  # Initialize gradient\n",
    "        output = model4(data)  # Forward pass\n",
    "        loss = loss_func(output, target)  # Calculate loss\n",
    "        loss.backward()  # Backward pass\n",
    "        optimizer.step()  # Optimize weights\n",
    "        total_loss.append(loss.item())  # Store loss\n",
    "    loss_list.append(sum(total_loss) / len(total_loss))\n",
    "    torch.save(model4.state_dict(), \"model4.pt\")\n",
    "    print(\"Training [{:.0f}%]\\tLoss: {:.4f}\".format(100.0 * (epoch + 1) / epochs, loss_list[-1]))"
   ]
  },
  {
   "cell_type": "code",
   "execution_count": 22,
   "metadata": {},
   "outputs": [
    {
     "data": {
      "image/png": "[encoded data removed]",
      "text/plain": [
       "<Figure size 640x480 with 1 Axes>"
      ]
     },
     "metadata": {},
     "output_type": "display_data"
    }
   ],
   "source": [
    "# Plot loss convergence\n",
    "plt.plot(loss_list)\n",
    "plt.title(\"Hybrid NN Training Convergence\")\n",
    "plt.xlabel(\"Training Iterations\")\n",
    "plt.ylabel(\"Neg. Log Likelihood Loss\")\n",
    "plt.show()"
   ]
  },
  {
   "cell_type": "code",
   "execution_count": 23,
   "metadata": {},
   "outputs": [
    {
     "data": {
      "text/plain": [
       "<All keys matched successfully>"
      ]
     },
     "execution_count": 23,
     "metadata": {},
     "output_type": "execute_result"
    }
   ],
   "source": [
    "qnn5 = create_qnn()\n",
    "model5 = Net(qnn5)\n",
    "model5.load_state_dict(torch.load(\"model4.pt\"))"
   ]
  },
  {
   "cell_type": "code",
   "execution_count": 24,
   "metadata": {},
   "outputs": [
    {
     "name": "stdout",
     "output_type": "stream",
     "text": [
      "Performance on test data:\n",
      "\tLoss: -2.1980\n",
      "\tAccuracy: 83.8%\n"
     ]
    }
   ],
   "source": [
    "model5.eval()  # set model to evaluation mode\n",
    "with no_grad():\n",
    "\n",
    "    correct = 0\n",
    "    for batch_idx, (data, target) in enumerate(test_loader):\n",
    "        output = model5(data)\n",
    "        if len(output.shape) == 1:\n",
    "            output = output.reshape(1, *output.shape)\n",
    "\n",
    "        pred = output.argmax(dim=1, keepdim=True)\n",
    "        correct += pred.eq(target.view_as(pred)).sum().item()\n",
    "\n",
    "        loss = loss_func(output, target)\n",
    "        total_loss.append(loss.item())\n",
    "\n",
    "    print(\n",
    "        \"Performance on test data:\\n\\tLoss: {:.4f}\\n\\tAccuracy: {:.1f}%\".format(\n",
    "            sum(total_loss) / len(total_loss), correct / len(test_loader) / batch_size * 100\n",
    "        )\n",
    "    )"
   ]
  },
  {
   "cell_type": "code",
   "execution_count": 71,
   "metadata": {},
   "outputs": [
    {
     "data": {
      "image/png": "[encoded data removed]",
      "text/plain": [
       "<Figure size 1000x300 with 6 Axes>"
      ]
     },
     "metadata": {},
     "output_type": "display_data"
    }
   ],
   "source": [
    "n_samples_show = 6\n",
    "count = 0\n",
    "fig, axes = plt.subplots(nrows=1, ncols=n_samples_show, figsize=(10, 3))\n",
    "\n",
    "model5.eval()\n",
    "with no_grad():\n",
    "    for batch_idx, (data, target) in enumerate(test_loader):\n",
    "        if count == n_samples_show:\n",
    "            break\n",
    "        output = model5(data[0:1])\n",
    "        if len(output.shape) == 1:\n",
    "            output = output.reshape(1, *output.shape)\n",
    "\n",
    "        pred = output.argmax(dim=1, keepdim=True)\n",
    "\n",
    "        axes[count].imshow(data[0].numpy().squeeze(), cmap=\"gray\")\n",
    "\n",
    "        axes[count].set_xticks([])\n",
    "        axes[count].set_yticks([])\n",
    "        axes[count].set_title(\"Predicted {}\".format(pred.item()))\n",
    "\n",
    "        count += 1"
   ]
  }
 ],
 "metadata": {
  "kernelspec": {
   "display_name": "Qenv",
   "language": "python",
   "name": "python3"
  },
  "language_info": {
   "codemirror_mode": {
    "name": "ipython",
    "version": 3
   },
   "file_extension": ".py",
   "mimetype": "text/x-python",
   "name": "python",
   "nbconvert_exporter": "python",
   "pygments_lexer": "ipython3",
   "version": "3.8.19"
  }
 },
 "nbformat": 4,
 "nbformat_minor": 2
}
