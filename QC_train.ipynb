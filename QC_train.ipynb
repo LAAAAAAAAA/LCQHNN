{
 "cells": [
  {
   "cell_type": "code",
   "execution_count": 1,
   "metadata": {},
   "outputs": [
    {
     "name": "stdout",
     "output_type": "stream",
     "text": [
      "使用的CUDA设备: NVIDIA GeForce RTX 3090\n"
     ]
    }
   ],
   "source": [
    "import torch\n",
    "from torch.autograd import Function\n",
    "import torch.optim as optim\n",
    "import torch.nn as nn\n",
    "\n",
    "import os\n",
    "import torch\n",
    "\n",
    "# 设置要使用的显卡号\n",
    "os.environ['CUDA_VISIBLE_DEVICES'] = '0'  # 在这里将'0'替换为你想要使用的显卡号\n",
    "\n",
    "# 检查CUDA是否可用\n",
    "if torch.cuda.is_available():\n",
    "    # 设置设备\n",
    "    device = torch.device(\"cuda\")\n",
    "    print(\"使用的CUDA设备:\", torch.cuda.get_device_name(device))\n",
    "else:\n",
    "    device = torch.device(\"cpu\")\n",
    "    print(\"CUDA不可用, 使用CPU设备\")\n",
    "\n"
   ]
  },
  {
   "cell_type": "code",
   "execution_count": 2,
   "metadata": {},
   "outputs": [],
   "source": [
    "from qiskit import QuantumCircuit\n",
    "from qiskit.circuit import Parameter,ControlledGate\n",
    "from qiskit import transpile\n",
    "\n",
    "from qiskit_aer import Aer\n",
    "import qiskit\n",
    "import numpy as np"
   ]
  },
  {
   "cell_type": "code",
   "execution_count": 3,
   "metadata": {},
   "outputs": [],
   "source": [
    "# Additional torch-related imports\n",
    "import torch\n",
    "from torch import cat, no_grad, manual_seed\n",
    "from torch.utils.data import DataLoader\n",
    "from torchvision import datasets, transforms\n",
    "import torch.optim as optim\n",
    "from torch.nn import (\n",
    "    Module,\n",
    "    Conv2d,\n",
    "    Linear,\n",
    "    Dropout2d,\n",
    "    NLLLoss,\n",
    "    MaxPool2d,\n",
    "    Flatten,\n",
    "    Sequential,\n",
    "    ReLU,\n",
    ")\n",
    "import torch.nn.functional as F\n",
    "from tqdm import tqdm\n",
    "from matplotlib import pyplot as plt\n",
    "%matplotlib inline"
   ]
  },
  {
   "cell_type": "code",
   "execution_count": 4,
   "metadata": {},
   "outputs": [],
   "source": [
    "np.random.seed = 42\n",
    "\n",
    "NUM_QUBITS = 4\n",
    "NUM_SHOTS = 10000\n",
    "SHIFT = np.pi/2\n",
    "LEARNING_RATE = 0.01\n",
    "MOMENTUM = 0.5\n",
    "\n",
    "SIMULATOR = Aer.get_backend('qasm_simulator')"
   ]
  },
  {
   "cell_type": "code",
   "execution_count": 5,
   "metadata": {},
   "outputs": [
    {
     "name": "stdout",
     "output_type": "stream",
     "text": [
      "['0', '1']\n"
     ]
    }
   ],
   "source": [
    "# create list of all possible outputs of quantum circuit (2**NUM_QUBITS possible)\n",
    "import itertools\n",
    "def create_QC_OUTPUTS():\n",
    "    # for this circuit, there are only 2 outputs: '0' and '1'\n",
    "    return ['0', '1'] # 二分类\n",
    "    # return ['0', '1', '2'] # 三分类\n",
    "\n",
    "QC_OUTPUTS = create_QC_OUTPUTS()\n",
    "print(QC_OUTPUTS)"
   ]
  },
  {
   "cell_type": "markdown",
   "metadata": {},
   "source": [
    "# MNIST & FashionMNIST"
   ]
  },
  {
   "cell_type": "code",
   "execution_count": 6,
   "metadata": {},
   "outputs": [],
   "source": [
    "# # Train Dataset\n",
    "# # -------------\n",
    "\n",
    "# # Set train shuffle seed (for reproducibility)\n",
    "# manual_seed(42)\n",
    "# batch_size = 64\n",
    "\n",
    "# n_samples = 150  # We will concentrate on the first 100 samples\n",
    "\n",
    "# # Use pre-defined torchvision function to load MNIST train data\n",
    "# X_train = datasets.MNIST(\n",
    "#     root=\"./data\", train=True, download=True, transform=transforms.Compose([transforms.ToTensor()])\n",
    "# )\n",
    "\n",
    "# # Filter out labels (originally 0-9), leaving only labels 0 and 1\n",
    "# label_0_idx = np.where(X_train.targets == 0)[0][:n_samples]\n",
    "# label_1_idx = np.where(X_train.targets == 1)[0][:n_samples]\n",
    "# label_2_idx = np.where(X_train.targets == 2)[0][:n_samples]\n",
    "\n",
    "# #idx = np.append(label_0_idx, label_1_idx)\n",
    "# idx = np.append(np.append(label_0_idx, label_1_idx), label_2_idx)\n",
    "\n",
    "# X_train.data = X_train.data[idx]\n",
    "# X_train.targets = X_train.targets[idx]\n",
    "\n",
    "# # Define torch dataloader with filtered data\n",
    "# train_loader = DataLoader(X_train, batch_size=batch_size, shuffle=True)"
   ]
  },
  {
   "cell_type": "code",
   "execution_count": 7,
   "metadata": {},
   "outputs": [],
   "source": [
    "# # Use pre-defined torchvision function to load MNIST test data for validation\n",
    "# n_samples = 100\n",
    "\n",
    "# X_val = datasets.MNIST(\n",
    "#     root=\"./data\", train=False, download=True, transform=transforms.Compose([transforms.ToTensor()])\n",
    "# )\n",
    "\n",
    "# # Filter out labels (originally 0-9), leaving only labels 0 and 1\n",
    "# label_0_idx = np.where(X_val.targets == 0)[0][:n_samples]\n",
    "# label_1_idx = np.where(X_val.targets == 1)[0][:n_samples]\n",
    "# label_2_idx = np.where(X_train.targets == 2)[0][:n_samples]\n",
    "\n",
    "# # idx = np.append(label_0_idx, label_1_idx)\n",
    "# idx = np.append(np.append(label_0_idx, label_1_idx), label_2_idx)\n",
    "\n",
    "# X_val.data = X_val.data[idx]\n",
    "# X_val.targets = X_val.targets[idx]\n",
    "\n",
    "# # Define torch dataloader for validation data\n",
    "# valid_loader = DataLoader(X_val, batch_size=batch_size, shuffle=False)"
   ]
  },
  {
   "cell_type": "code",
   "execution_count": 8,
   "metadata": {},
   "outputs": [],
   "source": [
    "# # Test Dataset\n",
    "# # -------------\n",
    "\n",
    "# # Set test shuffle seed (for reproducibility)\n",
    "# # manual_seed(5)\n",
    "\n",
    "# n_samples = 100\n",
    "\n",
    "# # Use pre-defined torchvision function to load MNIST test data\n",
    "# X_test = datasets.MNIST(\n",
    "#     root=\"./data\", train=False, download=True, transform=transforms.Compose([transforms.ToTensor()])\n",
    "# )\n",
    "\n",
    "# # Filter out labels (originally 0-9), leaving only labels 0 and 1\n",
    "# label_0_idx = np.where(X_test.targets == 0)[0][:n_samples]\n",
    "# label_1_idx = np.where(X_test.targets == 1)[0][:n_samples]\n",
    "# label_2_idx = np.where(X_test.targets == 2)[0][:n_samples]\n",
    "\n",
    "# # idx = np.append(label_0_idx, label_1_idx)\n",
    "# idx = np.append(np.append(label_0_idx, label_1_idx), label_2_idx)\n",
    "\n",
    "\n",
    "# X_test.data = X_test.data[idx]\n",
    "# X_test.targets = X_test.targets[idx]\n",
    "\n",
    "\n",
    "# # Define torch dataloader with filtered data\n",
    "# test_loader = DataLoader(X_test, batch_size=batch_size, shuffle=True)"
   ]
  },
  {
   "cell_type": "code",
   "execution_count": 9,
   "metadata": {},
   "outputs": [],
   "source": [
    "# # 从train_loader中获取4个批次的图像和标签\n",
    "# data_iter = iter(train_loader)\n",
    "# images, labels = [], []\n",
    "\n",
    "# for i in range(4):\n",
    "#     X, y = next(data_iter)\n",
    "#     images.append(X)\n",
    "#     labels.append(y)\n",
    "\n",
    "# images = torch.cat(images, dim=0)\n",
    "# labels = torch.cat(labels, dim=0)\n",
    "\n",
    "# # 展示图像\n",
    "# fig, axes = plt.subplots(1, 8, figsize=(8, 8))\n",
    "# axes = axes.ravel()\n",
    "# for i in range(8):\n",
    "#     axes[i].imshow(images[i].squeeze(), cmap='gray')\n",
    "#     axes[i].set_title(f\"Label: {labels[i]}\")\n",
    "#     axes[i].axis('off')\n",
    "\n",
    "# plt.tight_layout()\n",
    "# plt.show()\n",
    "\n",
    "# # 训练集大小\n",
    "# train_size = len(train_loader.dataset)\n",
    "# print(\"训练集大小:\", train_size)\n",
    "\n",
    "# # 验证集大小\n",
    "# valid_size = len(valid_loader.dataset)\n",
    "# print(\"验证集大小:\", valid_size)\n",
    "\n",
    "# # 测试集大小\n",
    "# test_size = len(test_loader.dataset)\n",
    "# print(\"测试集大小:\", test_size)"
   ]
  },
  {
   "cell_type": "markdown",
   "metadata": {},
   "source": [
    "# CIFAR10"
   ]
  },
  {
   "cell_type": "code",
   "execution_count": 10,
   "metadata": {},
   "outputs": [
    {
     "name": "stdout",
     "output_type": "stream",
     "text": [
      "Files already downloaded and verified\n"
     ]
    }
   ],
   "source": [
    "# Set random seed for reproducibility\n",
    "#manual_seed(42)\n",
    "\n",
    "# Hyperparameters\n",
    "batch_size = 64\n",
    "n_samples = 1024  # Number of samples per class\n",
    "\n",
    "# Load MNIST dataset\n",
    "X_train = datasets.CIFAR10(\n",
    "    root=\"./data\", \n",
    "    train=True, \n",
    "    download=True, \n",
    "    transform=transforms.Compose([transforms.ToTensor()])\n",
    ")\n",
    "\n",
    "# Convert targets to NumPy array for easier indexing\n",
    "targets_np = np.array(X_train.targets)\n",
    "\n",
    "# Filter indices for labels 0 and 1\n",
    "label_0_idx = np.where(targets_np == 0)[0][:n_samples]  # Indices for label 0\n",
    "label_1_idx = np.where(targets_np == 1)[0][:n_samples]  # Indices for label 1\n",
    "\n",
    "# Combine indices\n",
    "idx = np.concatenate([label_0_idx, label_1_idx])\n",
    "\n",
    "# Filter data and targets\n",
    "X_train.data = X_train.data[idx]\n",
    "X_train.targets = targets_np[idx].tolist()  # Convert back to list for compatibility\n",
    "\n",
    "# Create DataLoader\n",
    "train_loader = DataLoader(X_train, batch_size=batch_size, shuffle=True)"
   ]
  },
  {
   "cell_type": "code",
   "execution_count": 11,
   "metadata": {},
   "outputs": [
    {
     "name": "stdout",
     "output_type": "stream",
     "text": [
      "Files already downloaded and verified\n"
     ]
    }
   ],
   "source": [
    "# Set random seed for reproducibility\n",
    "#manual_seed(42)\n",
    "\n",
    "# Hyperparameters\n",
    "batch_size = 64\n",
    "n_samples = 256  # Number of samples per class\n",
    "\n",
    "# Load MNIST dataset\n",
    "X_Val = datasets.CIFAR10(\n",
    "    root=\"./data\", \n",
    "    train=False, \n",
    "    download=True, \n",
    "    transform=transforms.Compose([transforms.ToTensor()])\n",
    ")\n",
    "\n",
    "# Convert targets to NumPy array for easier indexing\n",
    "targets_np = np.array(X_Val.targets)\n",
    "\n",
    "# Filter indices for labels 0 and 1\n",
    "label_0_idx = np.where(targets_np == 0)[0][:n_samples]  # Indices for label 0\n",
    "label_1_idx = np.where(targets_np == 1)[0][:n_samples]  # Indices for label 1\n",
    "\n",
    "# Combine indices\n",
    "idx = np.concatenate([label_0_idx, label_1_idx])\n",
    "\n",
    "# Filter data and targets\n",
    "X_Val.data = X_Val.data[idx]\n",
    "X_Val.targets = targets_np[idx].tolist()  # Convert back to list for compatibility\n",
    "\n",
    "# Create DataLoader\n",
    "valid_loader = DataLoader(X_Val, batch_size=batch_size, shuffle=True)"
   ]
  },
  {
   "cell_type": "code",
   "execution_count": 12,
   "metadata": {},
   "outputs": [
    {
     "name": "stdout",
     "output_type": "stream",
     "text": [
      "Files already downloaded and verified\n"
     ]
    }
   ],
   "source": [
    "# Set random seed for reproducibility\n",
    "#manual_seed(42)\n",
    "\n",
    "# Hyperparameters\n",
    "batch_size = 64\n",
    "n_samples = 512  # Number of samples per class\n",
    "\n",
    "# Load MNIST dataset\n",
    "X_test = datasets.CIFAR10(\n",
    "    root=\"./data\", \n",
    "    train=False, \n",
    "    download=True, \n",
    "    transform=transforms.Compose([transforms.ToTensor()])\n",
    ")\n",
    "\n",
    "# Convert targets to NumPy array for easier indexing\n",
    "targets_np = np.array(X_test.targets)\n",
    "\n",
    "# Filter indices for labels 0 and 1\n",
    "label_0_idx = np.where(targets_np == 0)[0][:n_samples]  # Indices for label 0\n",
    "label_1_idx = np.where(targets_np == 1)[0][:n_samples]  # Indices for label 1\n",
    "\n",
    "# Combine indices\n",
    "idx = np.concatenate([label_0_idx, label_1_idx])\n",
    "\n",
    "# Filter data and targets\n",
    "X_test.data = X_test.data[idx]\n",
    "X_test.targets = targets_np[idx].tolist()  # Convert back to list for compatibility\n",
    "\n",
    "# Create DataLoader\n",
    "test_loader = DataLoader(X_test, batch_size=batch_size, shuffle=True)"
   ]
  },
  {
   "cell_type": "code",
   "execution_count": 13,
   "metadata": {},
   "outputs": [
    {
     "data": {
      "image/png": "[encoded data removed]",
      "text/plain": [
       "<Figure size 800x800 with 8 Axes>"
      ]
     },
     "metadata": {},
     "output_type": "display_data"
    },
    {
     "name": "stdout",
     "output_type": "stream",
     "text": [
      "训练集大小: 2048\n",
      "验证集大小: 512\n",
      "测试集大小: 1024\n"
     ]
    }
   ],
   "source": [
    "# 从 train_loader 中获取 4 个批次的图像和标签\n",
    "data_iter = iter(train_loader)\n",
    "images, labels = [], []\n",
    "\n",
    "for i in range(4):\n",
    "    X, y = next(data_iter)\n",
    "    images.append(X)\n",
    "    labels.append(y)\n",
    "\n",
    "images = torch.cat(images, dim=0)\n",
    "labels = torch.cat(labels, dim=0)\n",
    "\n",
    "# 展示图像\n",
    "fig, axes = plt.subplots(1, 8, figsize=(8, 8))\n",
    "axes = axes.ravel()\n",
    "for i in range(8):\n",
    "    # 调整图像形状：从 (3, 32, 32) 转换为 (32, 32, 3)\n",
    "    img = images[i].permute(1, 2, 0)  # 调整维度顺序\n",
    "    axes[i].imshow(img)\n",
    "    axes[i].set_title(f\"Label: {labels[i]}\")\n",
    "    axes[i].axis('off')\n",
    "\n",
    "plt.tight_layout()\n",
    "plt.show()\n",
    "\n",
    "# 训练集大小\n",
    "train_size = len(train_loader.dataset)\n",
    "print(\"训练集大小:\", train_size)\n",
    "\n",
    "# 验证集大小\n",
    "valid_size = len(valid_loader.dataset)\n",
    "print(\"验证集大小:\", valid_size)\n",
    "\n",
    "# 测试集大小\n",
    "test_size = len(test_loader.dataset)\n",
    "print(\"测试集大小:\", test_size)\n",
    "\n"
   ]
  },
  {
   "cell_type": "code",
   "execution_count": 14,
   "metadata": {},
   "outputs": [],
   "source": [
    "class QiskitCircuit():\n",
    "    \n",
    "    def __init__(self, n_qubits, backend, shots):\n",
    "        # --- Circuit definition ---\n",
    "        self.circuit = qiskit.QuantumCircuit(n_qubits, 1)\n",
    "        self.n_qubits = n_qubits\n",
    "        self.thetas ={k : Parameter('Theta'+str(k))for k in range(self.n_qubits)}\n",
    "        \n",
    "        all_qubits = [i for i in range(n_qubits)]\n",
    "        self.circuit.h(0)\n",
    "        for k in range(n_qubits-1):\n",
    "            self.circuit.cx(k, k+1)\n",
    "            \n",
    "        self.circuit.barrier()\n",
    "        for k in range(n_qubits):\n",
    "            self.circuit.ry(self.thetas[k], k)\n",
    "        self.circuit.barrier()\n",
    "\n",
    "        for i in reversed(range(n_qubits-1)):\n",
    "            self.circuit.cx(i, i+1)\n",
    "        self.circuit.h(0)\n",
    "        self.circuit.measure(0,0)\n",
    "        \n",
    "        # ---------------------------\n",
    "        \n",
    "        self.backend = backend\n",
    "        self.shots = shots\n",
    "        \n",
    "#             check = perc\n",
    "#             for i in range(nr_qubits):\n",
    "#                 check *= (float(key[i])-1/2)*2\n",
    "#             expects += check   \n",
    "        \n",
    "    def N_qubit_expectation_Z(self,counts, shots, nr_qubits):\n",
    "        expects = np.zeros(len(QC_OUTPUTS))\n",
    "        for k in range(len(QC_OUTPUTS)):\n",
    "            key = QC_OUTPUTS[k]\n",
    "            perc = counts.get(key, 0) /shots\n",
    "            expects[k] = perc\n",
    "        return expects\n",
    "    \n",
    "    def run(self, i):\n",
    "        params = i\n",
    "#        print('params = {}'.format(len(params)))\n",
    "        backend = Aer.get_backend('qasm_simulator')\n",
    "        #backend.set_options(method='automatic', device='GPU')\n",
    "\n",
    "        results = []\n",
    "#        print(\"params:\",params)\n",
    "        for sample_params in params:\n",
    "            job_sim = backend.run(transpile(self.circuit, backend),\n",
    "                              parameter_binds=[{self.thetas[k]: sample_params[k].item() for k in range(NUM_QUBITS)}]\n",
    "                             )\n",
    "            result_sim = job_sim.result()\n",
    "            counts = result_sim.get_counts(self.circuit)\n",
    "            expectation = self.N_qubit_expectation_Z(counts, self.shots, 1)\n",
    "            results.append(expectation)\n",
    "            \n",
    "        return torch.tensor(np.array(results)).to(device)\n"
   ]
  },
  {
   "cell_type": "code",
   "execution_count": 15,
   "metadata": {},
   "outputs": [
    {
     "data": {
      "image/png": "[encoded data removed]",
      "text/plain": [
       "<Figure size 1123.61x451.5 with 1 Axes>"
      ]
     },
     "execution_count": 15,
     "metadata": {},
     "output_type": "execute_result"
    }
   ],
   "source": [
    "circuit = QiskitCircuit(NUM_QUBITS, SIMULATOR, NUM_SHOTS)\n",
    "test_params = [np.pi / 2**k for k in range(NUM_QUBITS)]\n",
    "test_names = ['pi/{}'.format(2**k) for k in range (NUM_QUBITS)]\n",
    "#print('Expected value for rotation {}: {}'.format(test_names, circuit.run(torch.Tensor(test_params))))\n",
    "circuit.circuit.draw(output='mpl', filename='./{}-qubit circuit bell.jpg'.format(NUM_QUBITS))"
   ]
  },
  {
   "cell_type": "code",
   "execution_count": 16,
   "metadata": {},
   "outputs": [],
   "source": [
    "class TorchCircuit(Function):    \n",
    "\n",
    "    @staticmethod\n",
    "    def forward(ctx, i):\n",
    "        if not hasattr(ctx, 'QiskitCirc'):\n",
    "            ctx.QiskitCirc = QiskitCircuit(NUM_QUBITS, SIMULATOR, shots=NUM_SHOTS)\n",
    "             \n",
    "        exp_value = ctx.QiskitCirc.run(i)\n",
    "\n",
    "        result = exp_value.clone().detach().requires_grad_(True)\n",
    "        #print(result.shape)\n",
    "        \n",
    "        \n",
    "        ctx.save_for_backward(result, i)\n",
    "        \n",
    "        return result\n",
    "    \n",
    "    @staticmethod\n",
    "    def backward(ctx, grad_output):\n",
    "        forward_tensor, i = ctx.saved_tensors\n",
    "        # print('forward_tensor = {}'.format(forward_tensor.shape))\n",
    "        input_numbers = i\n",
    "        # print('input_numbers = {}'.format(input_numbers.shape))\n",
    "        gradients = torch.Tensor()\n",
    "\n",
    "        gradients = []\n",
    "\n",
    "\n",
    "        for input_sample in i:\n",
    "            sample_gradients = []\n",
    "            for k in range(NUM_QUBITS):\n",
    "                shift_right = input_sample.detach().clone()\n",
    "                shift_right[k] = shift_right[k].item() + SHIFT\n",
    "                shift_left = input_sample.detach().clone()\n",
    "                shift_left[k] = shift_left[k].item() - SHIFT\n",
    "                expectation_right = ctx.QiskitCirc.run([shift_right])\n",
    "                expectation_left = ctx.QiskitCirc.run([shift_left])\n",
    "                gradient = expectation_right.clone().detach().requires_grad_(True) - expectation_left.clone().detach().requires_grad_(True)\n",
    "                sample_gradients.append(gradient.float())\n",
    "            gradients.append(torch.cat(sample_gradients))\n",
    "        # print(\"gradients:\",gradients.shape)\n",
    "        result = torch.stack(gradients)\n",
    "\n",
    "        grad_output = grad_output.view(-1, 1, len(QC_OUTPUTS))\n",
    "        #print(\"result:\",result.shape,\"grad_output:\",grad_output.shape)\n",
    "        transposed = torch.transpose(result.float() * grad_output.float(), 1, 2)\n",
    "        return transposed[:, 0] + transposed[:, 1]\n",
    "        #return transposed[:, 0, :] #将(64, len(QC_OUTPUTS), 4)变成(64, 4)\n"
   ]
  },
  {
   "cell_type": "code",
   "execution_count": 17,
   "metadata": {},
   "outputs": [],
   "source": [
    "class Net(Module):\n",
    "    def __init__(self):\n",
    "        super().__init__()\n",
    "        self.conv1 = Conv2d(3, 2, kernel_size=5)\n",
    "        self.conv2 = Conv2d(2, 16, kernel_size=5)\n",
    "        self.dropout = Dropout2d()\n",
    "        self.fc1 = Linear(400, 64)\n",
    "        self.fc2 = Linear(64, 4)  # 2-dimensional input to QNN\n",
    "        self.qc = TorchCircuit.apply # Apply torch connector, weights chosen\n",
    "        # uniformly at random from interval [-1,1].\n",
    "        #self.fc3 = Linear(1, 2)  # 1-dimensional output from QNN\n",
    "\n",
    "    def forward(self, x):\n",
    "        x = F.relu(self.conv1(x))\n",
    "        x = F.max_pool2d(x, 2)\n",
    "        x = F.relu(self.conv2(x))\n",
    "        x = F.max_pool2d(x, 2)\n",
    "        x = self.dropout(x)\n",
    "        x = x.view(x.shape[0], -1)\n",
    "        x = F.relu(self.fc1(x))\n",
    "        x = F.relu(self.fc2(x))\n",
    "        x = np.pi*torch.tanh(x)\n",
    "        # print(\"进入qc之前的x:\",x.shape)\n",
    "        \n",
    "#         print('params to QC: {}'.format(x))\n",
    "\n",
    "        x = self.qc(x) # QUANTUM LAYER\n",
    "        x = torch.softmax(x)\n",
    "        return x\n",
    "\n",
    "\n",
    "model = Net().to(device)\n",
    "#print(model)"
   ]
  },
  {
   "cell_type": "code",
   "execution_count": 18,
   "metadata": {},
   "outputs": [],
   "source": [
    "# Define model, optimizer, and loss function\n",
    "optimizer = optim.Adam(model.parameters(), lr=0.001)\n",
    "criterion = nn.CrossEntropyLoss()\n"
   ]
  },
  {
   "cell_type": "code",
   "execution_count": 19,
   "metadata": {},
   "outputs": [
    {
     "name": "stderr",
     "output_type": "stream",
     "text": [
      "100%|██████████| 32/32 [04:33<00:00,  8.54s/it]\n"
     ]
    },
    {
     "name": "stdout",
     "output_type": "stream",
     "text": [
      "Epoch : 1 - loss : 0.6929 - acc: 0.5122 - val_loss : 0.6906 - val_acc: 0.6133\n"
     ]
    },
    {
     "name": "stderr",
     "output_type": "stream",
     "text": [
      "100%|██████████| 32/32 [04:23<00:00,  8.22s/it]\n"
     ]
    },
    {
     "name": "stdout",
     "output_type": "stream",
     "text": [
      "Epoch : 2 - loss : 0.6891 - acc: 0.6934 - val_loss : 0.6882 - val_acc: 0.7070\n"
     ]
    },
    {
     "name": "stderr",
     "output_type": "stream",
     "text": [
      "100%|██████████| 32/32 [04:23<00:00,  8.22s/it]\n"
     ]
    },
    {
     "name": "stdout",
     "output_type": "stream",
     "text": [
      "Epoch : 3 - loss : 0.6878 - acc: 0.7227 - val_loss : 0.6872 - val_acc: 0.7480\n"
     ]
    },
    {
     "name": "stderr",
     "output_type": "stream",
     "text": [
      "100%|██████████| 32/32 [04:23<00:00,  8.23s/it]\n"
     ]
    },
    {
     "name": "stdout",
     "output_type": "stream",
     "text": [
      "Epoch : 4 - loss : 0.6873 - acc: 0.7427 - val_loss : 0.6874 - val_acc: 0.7305\n"
     ]
    },
    {
     "name": "stderr",
     "output_type": "stream",
     "text": [
      "100%|██████████| 32/32 [04:24<00:00,  8.26s/it]\n"
     ]
    },
    {
     "name": "stdout",
     "output_type": "stream",
     "text": [
      "Epoch : 5 - loss : 0.6869 - acc: 0.7617 - val_loss : 0.6869 - val_acc: 0.7520\n"
     ]
    },
    {
     "name": "stderr",
     "output_type": "stream",
     "text": [
      "100%|██████████| 32/32 [04:23<00:00,  8.25s/it]\n"
     ]
    },
    {
     "name": "stdout",
     "output_type": "stream",
     "text": [
      "Epoch : 6 - loss : 0.6867 - acc: 0.7656 - val_loss : 0.6866 - val_acc: 0.7656\n"
     ]
    },
    {
     "name": "stderr",
     "output_type": "stream",
     "text": [
      "100%|██████████| 32/32 [04:24<00:00,  8.26s/it]\n"
     ]
    },
    {
     "name": "stdout",
     "output_type": "stream",
     "text": [
      "Epoch : 7 - loss : 0.6864 - acc: 0.7773 - val_loss : 0.6865 - val_acc: 0.7656\n"
     ]
    },
    {
     "name": "stderr",
     "output_type": "stream",
     "text": [
      "100%|██████████| 32/32 [04:26<00:00,  8.32s/it]\n"
     ]
    },
    {
     "name": "stdout",
     "output_type": "stream",
     "text": [
      "Epoch : 8 - loss : 0.6863 - acc: 0.7788 - val_loss : 0.6864 - val_acc: 0.7773\n"
     ]
    },
    {
     "name": "stderr",
     "output_type": "stream",
     "text": [
      "100%|██████████| 32/32 [04:25<00:00,  8.31s/it]\n"
     ]
    },
    {
     "name": "stdout",
     "output_type": "stream",
     "text": [
      "Epoch : 9 - loss : 0.6865 - acc: 0.7725 - val_loss : 0.6866 - val_acc: 0.7695\n"
     ]
    },
    {
     "name": "stderr",
     "output_type": "stream",
     "text": [
      "100%|██████████| 32/32 [04:25<00:00,  8.31s/it]\n"
     ]
    },
    {
     "name": "stdout",
     "output_type": "stream",
     "text": [
      "Epoch : 10 - loss : 0.6862 - acc: 0.7793 - val_loss : 0.6868 - val_acc: 0.7578\n"
     ]
    },
    {
     "name": "stderr",
     "output_type": "stream",
     "text": [
      "100%|██████████| 32/32 [04:25<00:00,  8.31s/it]\n"
     ]
    },
    {
     "name": "stdout",
     "output_type": "stream",
     "text": [
      "Epoch : 11 - loss : 0.6858 - acc: 0.7988 - val_loss : 0.6859 - val_acc: 0.8105\n"
     ]
    },
    {
     "name": "stderr",
     "output_type": "stream",
     "text": [
      "100%|██████████| 32/32 [04:26<00:00,  8.31s/it]\n"
     ]
    },
    {
     "name": "stdout",
     "output_type": "stream",
     "text": [
      "Epoch : 12 - loss : 0.6860 - acc: 0.7935 - val_loss : 0.6862 - val_acc: 0.7891\n"
     ]
    },
    {
     "name": "stderr",
     "output_type": "stream",
     "text": [
      "100%|██████████| 32/32 [04:26<00:00,  8.32s/it]\n"
     ]
    },
    {
     "name": "stdout",
     "output_type": "stream",
     "text": [
      "Epoch : 13 - loss : 0.6857 - acc: 0.8008 - val_loss : 0.6860 - val_acc: 0.7852\n"
     ]
    },
    {
     "name": "stderr",
     "output_type": "stream",
     "text": [
      "100%|██████████| 32/32 [04:26<00:00,  8.34s/it]\n"
     ]
    },
    {
     "name": "stdout",
     "output_type": "stream",
     "text": [
      "Epoch : 14 - loss : 0.6859 - acc: 0.7910 - val_loss : 0.6864 - val_acc: 0.7793\n"
     ]
    },
    {
     "name": "stderr",
     "output_type": "stream",
     "text": [
      "100%|██████████| 32/32 [04:26<00:00,  8.34s/it]\n"
     ]
    },
    {
     "name": "stdout",
     "output_type": "stream",
     "text": [
      "Epoch : 15 - loss : 0.6855 - acc: 0.8105 - val_loss : 0.6862 - val_acc: 0.7910\n"
     ]
    },
    {
     "name": "stderr",
     "output_type": "stream",
     "text": [
      "100%|██████████| 32/32 [04:26<00:00,  8.34s/it]\n"
     ]
    },
    {
     "name": "stdout",
     "output_type": "stream",
     "text": [
      "Epoch : 16 - loss : 0.6857 - acc: 0.7964 - val_loss : 0.6861 - val_acc: 0.7812\n"
     ]
    },
    {
     "name": "stderr",
     "output_type": "stream",
     "text": [
      "100%|██████████| 32/32 [04:26<00:00,  8.33s/it]\n"
     ]
    },
    {
     "name": "stdout",
     "output_type": "stream",
     "text": [
      "Epoch : 17 - loss : 0.6854 - acc: 0.8105 - val_loss : 0.6864 - val_acc: 0.7734\n"
     ]
    },
    {
     "name": "stderr",
     "output_type": "stream",
     "text": [
      "100%|██████████| 32/32 [04:27<00:00,  8.35s/it]\n"
     ]
    },
    {
     "name": "stdout",
     "output_type": "stream",
     "text": [
      "Epoch : 18 - loss : 0.6856 - acc: 0.8042 - val_loss : 0.6863 - val_acc: 0.7773\n"
     ]
    },
    {
     "name": "stderr",
     "output_type": "stream",
     "text": [
      "100%|██████████| 32/32 [04:26<00:00,  8.33s/it]\n"
     ]
    },
    {
     "name": "stdout",
     "output_type": "stream",
     "text": [
      "Epoch : 19 - loss : 0.6853 - acc: 0.8110 - val_loss : 0.6865 - val_acc: 0.7754\n"
     ]
    },
    {
     "name": "stderr",
     "output_type": "stream",
     "text": [
      "100%|██████████| 32/32 [04:26<00:00,  8.34s/it]\n"
     ]
    },
    {
     "name": "stdout",
     "output_type": "stream",
     "text": [
      "Epoch : 20 - loss : 0.6853 - acc: 0.8110 - val_loss : 0.6858 - val_acc: 0.7988\n"
     ]
    },
    {
     "name": "stderr",
     "output_type": "stream",
     "text": [
      "100%|██████████| 32/32 [04:26<00:00,  8.34s/it]\n"
     ]
    },
    {
     "name": "stdout",
     "output_type": "stream",
     "text": [
      "Epoch : 21 - loss : 0.6852 - acc: 0.8247 - val_loss : 0.6859 - val_acc: 0.7910\n"
     ]
    },
    {
     "name": "stderr",
     "output_type": "stream",
     "text": [
      "100%|██████████| 32/32 [04:27<00:00,  8.35s/it]\n"
     ]
    },
    {
     "name": "stdout",
     "output_type": "stream",
     "text": [
      "Epoch : 22 - loss : 0.6851 - acc: 0.8218 - val_loss : 0.6859 - val_acc: 0.7871\n"
     ]
    },
    {
     "name": "stderr",
     "output_type": "stream",
     "text": [
      "100%|██████████| 32/32 [04:27<00:00,  8.36s/it]\n"
     ]
    },
    {
     "name": "stdout",
     "output_type": "stream",
     "text": [
      "Epoch : 23 - loss : 0.6853 - acc: 0.8130 - val_loss : 0.6862 - val_acc: 0.7715\n"
     ]
    },
    {
     "name": "stderr",
     "output_type": "stream",
     "text": [
      "100%|██████████| 32/32 [04:27<00:00,  8.35s/it]\n"
     ]
    },
    {
     "name": "stdout",
     "output_type": "stream",
     "text": [
      "Epoch : 24 - loss : 0.6851 - acc: 0.8247 - val_loss : 0.6858 - val_acc: 0.7930\n"
     ]
    },
    {
     "name": "stderr",
     "output_type": "stream",
     "text": [
      "100%|██████████| 32/32 [04:27<00:00,  8.35s/it]\n"
     ]
    },
    {
     "name": "stdout",
     "output_type": "stream",
     "text": [
      "Epoch : 25 - loss : 0.6854 - acc: 0.8086 - val_loss : 0.6856 - val_acc: 0.8008\n"
     ]
    },
    {
     "name": "stderr",
     "output_type": "stream",
     "text": [
      "100%|██████████| 32/32 [04:27<00:00,  8.37s/it]\n"
     ]
    },
    {
     "name": "stdout",
     "output_type": "stream",
     "text": [
      "Epoch : 26 - loss : 0.6856 - acc: 0.8013 - val_loss : 0.6856 - val_acc: 0.8066\n"
     ]
    },
    {
     "name": "stderr",
     "output_type": "stream",
     "text": [
      "100%|██████████| 32/32 [04:27<00:00,  8.37s/it]\n"
     ]
    },
    {
     "name": "stdout",
     "output_type": "stream",
     "text": [
      "Epoch : 27 - loss : 0.6852 - acc: 0.8125 - val_loss : 0.6856 - val_acc: 0.8008\n"
     ]
    },
    {
     "name": "stderr",
     "output_type": "stream",
     "text": [
      "100%|██████████| 32/32 [04:28<00:00,  8.40s/it]\n"
     ]
    },
    {
     "name": "stdout",
     "output_type": "stream",
     "text": [
      "Epoch : 28 - loss : 0.6852 - acc: 0.8179 - val_loss : 0.6857 - val_acc: 0.8047\n"
     ]
    },
    {
     "name": "stderr",
     "output_type": "stream",
     "text": [
      "100%|██████████| 32/32 [04:27<00:00,  8.36s/it]\n"
     ]
    },
    {
     "name": "stdout",
     "output_type": "stream",
     "text": [
      "Epoch : 29 - loss : 0.6851 - acc: 0.8237 - val_loss : 0.6859 - val_acc: 0.7949\n"
     ]
    },
    {
     "name": "stderr",
     "output_type": "stream",
     "text": [
      "100%|██████████| 32/32 [04:28<00:00,  8.40s/it]\n"
     ]
    },
    {
     "name": "stdout",
     "output_type": "stream",
     "text": [
      "Epoch : 30 - loss : 0.6848 - acc: 0.8340 - val_loss : 0.6856 - val_acc: 0.7969\n"
     ]
    },
    {
     "name": "stderr",
     "output_type": "stream",
     "text": [
      "100%|██████████| 32/32 [04:28<00:00,  8.40s/it]\n"
     ]
    },
    {
     "name": "stdout",
     "output_type": "stream",
     "text": [
      "Epoch : 31 - loss : 0.6850 - acc: 0.8184 - val_loss : 0.6857 - val_acc: 0.7988\n"
     ]
    },
    {
     "name": "stderr",
     "output_type": "stream",
     "text": [
      "100%|██████████| 32/32 [04:28<00:00,  8.41s/it]\n"
     ]
    },
    {
     "name": "stdout",
     "output_type": "stream",
     "text": [
      "Epoch : 32 - loss : 0.6854 - acc: 0.8096 - val_loss : 0.6854 - val_acc: 0.8008\n"
     ]
    },
    {
     "name": "stderr",
     "output_type": "stream",
     "text": [
      "100%|██████████| 32/32 [04:32<00:00,  8.51s/it]\n"
     ]
    },
    {
     "name": "stdout",
     "output_type": "stream",
     "text": [
      "Epoch : 33 - loss : 0.6850 - acc: 0.8218 - val_loss : 0.6855 - val_acc: 0.8047\n"
     ]
    },
    {
     "name": "stderr",
     "output_type": "stream",
     "text": [
      "100%|██████████| 32/32 [04:28<00:00,  8.40s/it]\n"
     ]
    },
    {
     "name": "stdout",
     "output_type": "stream",
     "text": [
      "Epoch : 34 - loss : 0.6851 - acc: 0.8193 - val_loss : 0.6855 - val_acc: 0.8027\n"
     ]
    },
    {
     "name": "stderr",
     "output_type": "stream",
     "text": [
      "100%|██████████| 32/32 [04:27<00:00,  8.37s/it]\n"
     ]
    },
    {
     "name": "stdout",
     "output_type": "stream",
     "text": [
      "Epoch : 35 - loss : 0.6851 - acc: 0.8174 - val_loss : 0.6854 - val_acc: 0.8164\n"
     ]
    },
    {
     "name": "stderr",
     "output_type": "stream",
     "text": [
      "100%|██████████| 32/32 [04:26<00:00,  8.33s/it]\n"
     ]
    },
    {
     "name": "stdout",
     "output_type": "stream",
     "text": [
      "Epoch : 36 - loss : 0.6848 - acc: 0.8315 - val_loss : 0.6860 - val_acc: 0.7812\n"
     ]
    },
    {
     "name": "stderr",
     "output_type": "stream",
     "text": [
      "100%|██████████| 32/32 [04:26<00:00,  8.33s/it]\n"
     ]
    },
    {
     "name": "stdout",
     "output_type": "stream",
     "text": [
      "Epoch : 37 - loss : 0.6848 - acc: 0.8330 - val_loss : 0.6854 - val_acc: 0.8145\n"
     ]
    },
    {
     "name": "stderr",
     "output_type": "stream",
     "text": [
      "100%|██████████| 32/32 [04:28<00:00,  8.39s/it]\n"
     ]
    },
    {
     "name": "stdout",
     "output_type": "stream",
     "text": [
      "Epoch : 38 - loss : 0.6850 - acc: 0.8291 - val_loss : 0.6852 - val_acc: 0.8242\n"
     ]
    },
    {
     "name": "stderr",
     "output_type": "stream",
     "text": [
      "100%|██████████| 32/32 [04:27<00:00,  8.37s/it]\n"
     ]
    },
    {
     "name": "stdout",
     "output_type": "stream",
     "text": [
      "Epoch : 39 - loss : 0.6851 - acc: 0.8184 - val_loss : 0.6854 - val_acc: 0.8047\n"
     ]
    },
    {
     "name": "stderr",
     "output_type": "stream",
     "text": [
      "100%|██████████| 32/32 [04:26<00:00,  8.34s/it]\n"
     ]
    },
    {
     "name": "stdout",
     "output_type": "stream",
     "text": [
      "Epoch : 40 - loss : 0.6849 - acc: 0.8301 - val_loss : 0.6857 - val_acc: 0.8008\n"
     ]
    },
    {
     "name": "stderr",
     "output_type": "stream",
     "text": [
      "100%|██████████| 32/32 [04:27<00:00,  8.35s/it]\n"
     ]
    },
    {
     "name": "stdout",
     "output_type": "stream",
     "text": [
      "Epoch : 41 - loss : 0.6849 - acc: 0.8325 - val_loss : 0.6855 - val_acc: 0.8066\n"
     ]
    },
    {
     "name": "stderr",
     "output_type": "stream",
     "text": [
      "100%|██████████| 32/32 [04:42<00:00,  8.82s/it]\n"
     ]
    },
    {
     "name": "stdout",
     "output_type": "stream",
     "text": [
      "Epoch : 42 - loss : 0.6847 - acc: 0.8374 - val_loss : 0.6857 - val_acc: 0.8008\n"
     ]
    },
    {
     "name": "stderr",
     "output_type": "stream",
     "text": [
      "100%|██████████| 32/32 [04:45<00:00,  8.93s/it]\n"
     ]
    },
    {
     "name": "stdout",
     "output_type": "stream",
     "text": [
      "Epoch : 43 - loss : 0.6846 - acc: 0.8359 - val_loss : 0.6854 - val_acc: 0.8105\n"
     ]
    },
    {
     "name": "stderr",
     "output_type": "stream",
     "text": [
      "100%|██████████| 32/32 [04:43<00:00,  8.85s/it]\n"
     ]
    },
    {
     "name": "stdout",
     "output_type": "stream",
     "text": [
      "Epoch : 44 - loss : 0.6847 - acc: 0.8354 - val_loss : 0.6854 - val_acc: 0.8066\n"
     ]
    },
    {
     "name": "stderr",
     "output_type": "stream",
     "text": [
      "100%|██████████| 32/32 [04:43<00:00,  8.87s/it]\n"
     ]
    },
    {
     "name": "stdout",
     "output_type": "stream",
     "text": [
      "Epoch : 45 - loss : 0.6847 - acc: 0.8364 - val_loss : 0.6854 - val_acc: 0.8086\n"
     ]
    },
    {
     "name": "stderr",
     "output_type": "stream",
     "text": [
      "100%|██████████| 32/32 [04:44<00:00,  8.89s/it]\n"
     ]
    },
    {
     "name": "stdout",
     "output_type": "stream",
     "text": [
      "Epoch : 46 - loss : 0.6843 - acc: 0.8521 - val_loss : 0.6855 - val_acc: 0.8066\n"
     ]
    },
    {
     "name": "stderr",
     "output_type": "stream",
     "text": [
      "100%|██████████| 32/32 [04:49<00:00,  9.06s/it]\n"
     ]
    },
    {
     "name": "stdout",
     "output_type": "stream",
     "text": [
      "Epoch : 47 - loss : 0.6847 - acc: 0.8389 - val_loss : 0.6855 - val_acc: 0.8066\n"
     ]
    },
    {
     "name": "stderr",
     "output_type": "stream",
     "text": [
      "100%|██████████| 32/32 [04:50<00:00,  9.07s/it]\n"
     ]
    },
    {
     "name": "stdout",
     "output_type": "stream",
     "text": [
      "Epoch : 48 - loss : 0.6847 - acc: 0.8354 - val_loss : 0.6852 - val_acc: 0.8184\n"
     ]
    },
    {
     "name": "stderr",
     "output_type": "stream",
     "text": [
      "100%|██████████| 32/32 [04:50<00:00,  9.08s/it]\n"
     ]
    },
    {
     "name": "stdout",
     "output_type": "stream",
     "text": [
      "Epoch : 49 - loss : 0.6845 - acc: 0.8413 - val_loss : 0.6855 - val_acc: 0.8027\n"
     ]
    },
    {
     "name": "stderr",
     "output_type": "stream",
     "text": [
      "100%|██████████| 32/32 [04:52<00:00,  9.14s/it]\n"
     ]
    },
    {
     "name": "stdout",
     "output_type": "stream",
     "text": [
      "Epoch : 50 - loss : 0.6846 - acc: 0.8394 - val_loss : 0.6856 - val_acc: 0.7949\n"
     ]
    },
    {
     "data": {
      "image/png": "[encoded data removed]",
      "text/plain": [
       "<Figure size 640x480 with 1 Axes>"
      ]
     },
     "metadata": {},
     "output_type": "display_data"
    }
   ],
   "source": [
    "import logging\n",
    "\n",
    "# 设置日志记录器\n",
    "log_file = \"training_QC.log\"\n",
    "logging.basicConfig(filename=log_file, level=logging.INFO, format='%(asctime)s - %(message)s')\n",
    "\n",
    "# 开始训练\n",
    "epochs = 50\n",
    "model.train()\n",
    "\n",
    "train_losses = []\n",
    "val_losses = []\n",
    "\n",
    "for epoch in range(epochs):\n",
    "    epoch_loss = 0\n",
    "    epoch_accuracy = 0\n",
    "\n",
    "    for data, label in tqdm(train_loader):\n",
    "        data = data.to(device)\n",
    "        label = label.to(device)\n",
    "        output = model(data)\n",
    "        loss = criterion(output, label)\n",
    "\n",
    "        optimizer.zero_grad()\n",
    "        loss.backward()\n",
    "        optimizer.step()\n",
    "\n",
    "        acc = (output.argmax(dim=1) == label).float().mean()\n",
    "        epoch_accuracy += acc / len(train_loader)\n",
    "        epoch_loss += loss / len(train_loader)\n",
    "\n",
    "    with torch.no_grad():\n",
    "        epoch_val_accuracy = 0\n",
    "        epoch_val_loss = 0\n",
    "        for data, label in valid_loader:\n",
    "            data = data.to(device)\n",
    "            label = label.to(device)\n",
    "\n",
    "            val_output = model(data)\n",
    "            val_loss = criterion(val_output, label)\n",
    "\n",
    "            acc = (val_output.argmax(dim=1) == label).float().mean()\n",
    "            epoch_val_accuracy += acc / len(valid_loader)\n",
    "            epoch_val_loss += val_loss / len(valid_loader)\n",
    "\n",
    "    train_losses.append(epoch_loss)\n",
    "    val_losses.append(epoch_val_loss)\n",
    "    \n",
    "    log_message = f\"Epoch : {epoch+1} - loss : {epoch_loss:.4f} - acc: {epoch_accuracy:.4f} - val_loss : {epoch_val_loss:.4f} - val_acc: {epoch_val_accuracy:.4f}\"\n",
    "    logging.info(log_message)  # 将训练日志记录到文件中\n",
    "\n",
    "    if epoch % 1 == 0:\n",
    "        print(log_message)\n",
    "        \n",
    "    torch.save(model.state_dict(), \"model_QC.pt\")\n",
    "\n",
    "# 将列表转换为张量\n",
    "train_losses_tensor = torch.Tensor(train_losses)\n",
    "val_losses_tensor = torch.Tensor(val_losses)\n",
    "\n",
    "# 绘制损失曲线\n",
    "plt.plot(train_losses_tensor.cpu().numpy(), label='Train Loss')\n",
    "plt.plot(val_losses_tensor.cpu().numpy(), label='Validation Loss')\n",
    "plt.legend()\n",
    "plt.xlabel('Epoch')\n",
    "plt.ylabel('Loss')\n",
    "plt.title('Training Loss vs. Validation Loss')\n",
    "plt.savefig('./loss_image_QC.png')\n",
    "plt.show()"
   ]
  },
  {
   "cell_type": "code",
   "execution_count": 23,
   "metadata": {},
   "outputs": [
    {
     "data": {
      "text/plain": [
       "<All keys matched successfully>"
      ]
     },
     "execution_count": 23,
     "metadata": {},
     "output_type": "execute_result"
    }
   ],
   "source": [
    "model = Net().to(device)\n",
    "model.load_state_dict(torch.load(\"model_QC.pt\"))\n"
   ]
  },
  {
   "cell_type": "code",
   "execution_count": 24,
   "metadata": {},
   "outputs": [
    {
     "name": "stdout",
     "output_type": "stream",
     "text": [
      "Performance on test data:\n",
      "\tLoss: 0.6847\n",
      "\tAccuracy: 83.5%\n"
     ]
    }
   ],
   "source": [
    "model.eval()  # set model to evaluation mode\n",
    "with no_grad():\n",
    "    total_loss = []\n",
    "    correct = 0\n",
    "    all_ = 0\n",
    "    for batch_idx, (data, target) in enumerate(test_loader):\n",
    "        data = data.to(device)\n",
    "        target = target.to(device)\n",
    "        output = model(data)\n",
    "        if len(output.shape) == 1:\n",
    "            output = output.reshape(1, *output.shape)\n",
    "\n",
    "        pred = output.argmax(dim=1, keepdim=True)\n",
    "        correct += pred.eq(target.view_as(pred)).sum().item()\n",
    "        all_ += len(target)\n",
    "\n",
    "        loss = criterion(output, target)\n",
    "        total_loss.append(loss.item())\n",
    "    print(\n",
    "        \"Performance on test data:\\n\\tLoss: {:.4f}\\n\\tAccuracy: {:.1f}%\".format(\n",
    "            sum(total_loss) / len(total_loss), correct / all_ * 100\n",
    "        )\n",
    "    )\n"
   ]
  },
  {
   "cell_type": "code",
   "execution_count": 22,
   "metadata": {},
   "outputs": [
    {
     "ename": "TypeError",
     "evalue": "Invalid shape (3, 32, 32) for image data",
     "output_type": "error",
     "traceback": [
      "\u001b[1;31m---------------------------------------------------------------------------\u001b[0m",
      "\u001b[1;31mTypeError\u001b[0m                                 Traceback (most recent call last)",
      "Cell \u001b[1;32mIn[22], line 21\u001b[0m\n\u001b[0;32m     17\u001b[0m     output \u001b[38;5;241m=\u001b[39m output\u001b[38;5;241m.\u001b[39mreshape(\u001b[38;5;241m1\u001b[39m, \u001b[38;5;241m*\u001b[39moutput\u001b[38;5;241m.\u001b[39mshape)\n\u001b[0;32m     19\u001b[0m pred \u001b[38;5;241m=\u001b[39m output\u001b[38;5;241m.\u001b[39margmax(dim\u001b[38;5;241m=\u001b[39m\u001b[38;5;241m1\u001b[39m, keepdim\u001b[38;5;241m=\u001b[39m\u001b[38;5;28;01mTrue\u001b[39;00m)\n\u001b[1;32m---> 21\u001b[0m \u001b[43maxes\u001b[49m\u001b[43m[\u001b[49m\u001b[43mcount\u001b[49m\u001b[43m]\u001b[49m\u001b[38;5;241;43m.\u001b[39;49m\u001b[43mimshow\u001b[49m\u001b[43m(\u001b[49m\u001b[43mdata\u001b[49m\u001b[43m[\u001b[49m\u001b[43mi\u001b[49m\u001b[43m]\u001b[49m\u001b[38;5;241;43m.\u001b[39;49m\u001b[43mcpu\u001b[49m\u001b[43m(\u001b[49m\u001b[43m)\u001b[49m\u001b[38;5;241;43m.\u001b[39;49m\u001b[43mnumpy\u001b[49m\u001b[43m(\u001b[49m\u001b[43m)\u001b[49m\u001b[38;5;241;43m.\u001b[39;49m\u001b[43msqueeze\u001b[49m\u001b[43m(\u001b[49m\u001b[43m)\u001b[49m\u001b[43m,\u001b[49m\u001b[43m \u001b[49m\u001b[43mcmap\u001b[49m\u001b[38;5;241;43m=\u001b[39;49m\u001b[38;5;124;43m\"\u001b[39;49m\u001b[38;5;124;43mgray\u001b[39;49m\u001b[38;5;124;43m\"\u001b[39;49m\u001b[43m)\u001b[49m\n\u001b[0;32m     22\u001b[0m axes[count]\u001b[38;5;241m.\u001b[39mset_xticks([])\n\u001b[0;32m     23\u001b[0m axes[count]\u001b[38;5;241m.\u001b[39mset_yticks([])\n",
      "File \u001b[1;32mc:\\Users\\ly\\.conda\\envs\\Qenv\\lib\\site-packages\\matplotlib\\__init__.py:1473\u001b[0m, in \u001b[0;36m_preprocess_data.<locals>.inner\u001b[1;34m(ax, data, *args, **kwargs)\u001b[0m\n\u001b[0;32m   1470\u001b[0m \u001b[38;5;129m@functools\u001b[39m\u001b[38;5;241m.\u001b[39mwraps(func)\n\u001b[0;32m   1471\u001b[0m \u001b[38;5;28;01mdef\u001b[39;00m \u001b[38;5;21minner\u001b[39m(ax, \u001b[38;5;241m*\u001b[39margs, data\u001b[38;5;241m=\u001b[39m\u001b[38;5;28;01mNone\u001b[39;00m, \u001b[38;5;241m*\u001b[39m\u001b[38;5;241m*\u001b[39mkwargs):\n\u001b[0;32m   1472\u001b[0m     \u001b[38;5;28;01mif\u001b[39;00m data \u001b[38;5;129;01mis\u001b[39;00m \u001b[38;5;28;01mNone\u001b[39;00m:\n\u001b[1;32m-> 1473\u001b[0m         \u001b[38;5;28;01mreturn\u001b[39;00m \u001b[43mfunc\u001b[49m\u001b[43m(\u001b[49m\u001b[43max\u001b[49m\u001b[43m,\u001b[49m\u001b[43m \u001b[49m\u001b[38;5;241;43m*\u001b[39;49m\u001b[38;5;28;43mmap\u001b[39;49m\u001b[43m(\u001b[49m\u001b[43msanitize_sequence\u001b[49m\u001b[43m,\u001b[49m\u001b[43m \u001b[49m\u001b[43margs\u001b[49m\u001b[43m)\u001b[49m\u001b[43m,\u001b[49m\u001b[43m \u001b[49m\u001b[38;5;241;43m*\u001b[39;49m\u001b[38;5;241;43m*\u001b[39;49m\u001b[43mkwargs\u001b[49m\u001b[43m)\u001b[49m\n\u001b[0;32m   1475\u001b[0m     bound \u001b[38;5;241m=\u001b[39m new_sig\u001b[38;5;241m.\u001b[39mbind(ax, \u001b[38;5;241m*\u001b[39margs, \u001b[38;5;241m*\u001b[39m\u001b[38;5;241m*\u001b[39mkwargs)\n\u001b[0;32m   1476\u001b[0m     auto_label \u001b[38;5;241m=\u001b[39m (bound\u001b[38;5;241m.\u001b[39marguments\u001b[38;5;241m.\u001b[39mget(label_namer)\n\u001b[0;32m   1477\u001b[0m                   \u001b[38;5;129;01mor\u001b[39;00m bound\u001b[38;5;241m.\u001b[39mkwargs\u001b[38;5;241m.\u001b[39mget(label_namer))\n",
      "File \u001b[1;32mc:\\Users\\ly\\.conda\\envs\\Qenv\\lib\\site-packages\\matplotlib\\axes\\_axes.py:5663\u001b[0m, in \u001b[0;36mAxes.imshow\u001b[1;34m(self, X, cmap, norm, aspect, interpolation, alpha, vmin, vmax, origin, extent, interpolation_stage, filternorm, filterrad, resample, url, **kwargs)\u001b[0m\n\u001b[0;32m   5655\u001b[0m \u001b[38;5;28mself\u001b[39m\u001b[38;5;241m.\u001b[39mset_aspect(aspect)\n\u001b[0;32m   5656\u001b[0m im \u001b[38;5;241m=\u001b[39m mimage\u001b[38;5;241m.\u001b[39mAxesImage(\u001b[38;5;28mself\u001b[39m, cmap\u001b[38;5;241m=\u001b[39mcmap, norm\u001b[38;5;241m=\u001b[39mnorm,\n\u001b[0;32m   5657\u001b[0m                       interpolation\u001b[38;5;241m=\u001b[39minterpolation, origin\u001b[38;5;241m=\u001b[39morigin,\n\u001b[0;32m   5658\u001b[0m                       extent\u001b[38;5;241m=\u001b[39mextent, filternorm\u001b[38;5;241m=\u001b[39mfilternorm,\n\u001b[0;32m   5659\u001b[0m                       filterrad\u001b[38;5;241m=\u001b[39mfilterrad, resample\u001b[38;5;241m=\u001b[39mresample,\n\u001b[0;32m   5660\u001b[0m                       interpolation_stage\u001b[38;5;241m=\u001b[39minterpolation_stage,\n\u001b[0;32m   5661\u001b[0m                       \u001b[38;5;241m*\u001b[39m\u001b[38;5;241m*\u001b[39mkwargs)\n\u001b[1;32m-> 5663\u001b[0m \u001b[43mim\u001b[49m\u001b[38;5;241;43m.\u001b[39;49m\u001b[43mset_data\u001b[49m\u001b[43m(\u001b[49m\u001b[43mX\u001b[49m\u001b[43m)\u001b[49m\n\u001b[0;32m   5664\u001b[0m im\u001b[38;5;241m.\u001b[39mset_alpha(alpha)\n\u001b[0;32m   5665\u001b[0m \u001b[38;5;28;01mif\u001b[39;00m im\u001b[38;5;241m.\u001b[39mget_clip_path() \u001b[38;5;129;01mis\u001b[39;00m \u001b[38;5;28;01mNone\u001b[39;00m:\n\u001b[0;32m   5666\u001b[0m     \u001b[38;5;66;03m# image does not already have clipping set, clip to axes patch\u001b[39;00m\n",
      "File \u001b[1;32mc:\\Users\\ly\\.conda\\envs\\Qenv\\lib\\site-packages\\matplotlib\\image.py:710\u001b[0m, in \u001b[0;36m_ImageBase.set_data\u001b[1;34m(self, A)\u001b[0m\n\u001b[0;32m    706\u001b[0m     \u001b[38;5;28mself\u001b[39m\u001b[38;5;241m.\u001b[39m_A \u001b[38;5;241m=\u001b[39m \u001b[38;5;28mself\u001b[39m\u001b[38;5;241m.\u001b[39m_A[:, :, \u001b[38;5;241m0\u001b[39m]\n\u001b[0;32m    708\u001b[0m \u001b[38;5;28;01mif\u001b[39;00m \u001b[38;5;129;01mnot\u001b[39;00m (\u001b[38;5;28mself\u001b[39m\u001b[38;5;241m.\u001b[39m_A\u001b[38;5;241m.\u001b[39mndim \u001b[38;5;241m==\u001b[39m \u001b[38;5;241m2\u001b[39m\n\u001b[0;32m    709\u001b[0m         \u001b[38;5;129;01mor\u001b[39;00m \u001b[38;5;28mself\u001b[39m\u001b[38;5;241m.\u001b[39m_A\u001b[38;5;241m.\u001b[39mndim \u001b[38;5;241m==\u001b[39m \u001b[38;5;241m3\u001b[39m \u001b[38;5;129;01mand\u001b[39;00m \u001b[38;5;28mself\u001b[39m\u001b[38;5;241m.\u001b[39m_A\u001b[38;5;241m.\u001b[39mshape[\u001b[38;5;241m-\u001b[39m\u001b[38;5;241m1\u001b[39m] \u001b[38;5;129;01min\u001b[39;00m [\u001b[38;5;241m3\u001b[39m, \u001b[38;5;241m4\u001b[39m]):\n\u001b[1;32m--> 710\u001b[0m     \u001b[38;5;28;01mraise\u001b[39;00m \u001b[38;5;167;01mTypeError\u001b[39;00m(\u001b[38;5;124m\"\u001b[39m\u001b[38;5;124mInvalid shape \u001b[39m\u001b[38;5;132;01m{}\u001b[39;00m\u001b[38;5;124m for image data\u001b[39m\u001b[38;5;124m\"\u001b[39m\n\u001b[0;32m    711\u001b[0m                     \u001b[38;5;241m.\u001b[39mformat(\u001b[38;5;28mself\u001b[39m\u001b[38;5;241m.\u001b[39m_A\u001b[38;5;241m.\u001b[39mshape))\n\u001b[0;32m    713\u001b[0m \u001b[38;5;28;01mif\u001b[39;00m \u001b[38;5;28mself\u001b[39m\u001b[38;5;241m.\u001b[39m_A\u001b[38;5;241m.\u001b[39mndim \u001b[38;5;241m==\u001b[39m \u001b[38;5;241m3\u001b[39m:\n\u001b[0;32m    714\u001b[0m     \u001b[38;5;66;03m# If the input data has values outside the valid range (after\u001b[39;00m\n\u001b[0;32m    715\u001b[0m     \u001b[38;5;66;03m# normalisation), we issue a warning and then clip X to the bounds\u001b[39;00m\n\u001b[0;32m    716\u001b[0m     \u001b[38;5;66;03m# - otherwise casting wraps extreme values, hiding outliers and\u001b[39;00m\n\u001b[0;32m    717\u001b[0m     \u001b[38;5;66;03m# making reliable interpretation impossible.\u001b[39;00m\n\u001b[0;32m    718\u001b[0m     high \u001b[38;5;241m=\u001b[39m \u001b[38;5;241m255\u001b[39m \u001b[38;5;28;01mif\u001b[39;00m np\u001b[38;5;241m.\u001b[39missubdtype(\u001b[38;5;28mself\u001b[39m\u001b[38;5;241m.\u001b[39m_A\u001b[38;5;241m.\u001b[39mdtype, np\u001b[38;5;241m.\u001b[39minteger) \u001b[38;5;28;01melse\u001b[39;00m \u001b[38;5;241m1\u001b[39m\n",
      "\u001b[1;31mTypeError\u001b[0m: Invalid shape (3, 32, 32) for image data"
     ]
    },
    {
     "data": {
      "image/png": "[encoded data removed]",
      "text/plain": [
       "<Figure size 1500x800 with 6 Axes>"
      ]
     },
     "metadata": {},
     "output_type": "display_data"
    }
   ],
   "source": [
    "n_samples_show = 6\n",
    "count = 0\n",
    "fig, axes = plt.subplots(nrows=1, ncols=n_samples_show, figsize=(15, 8))\n",
    "\n",
    "model.eval()\n",
    "with torch.no_grad():\n",
    "    for batch_idx, (data, target) in enumerate(test_loader):\n",
    "        data = data.to(device)\n",
    "        target = target.to(device)\n",
    "\n",
    "        for i in range(data.shape[0]):\n",
    "            if count == n_samples_show:\n",
    "                break\n",
    "\n",
    "            output = model(data[i:i+1])  # 处理单个数据样本\n",
    "            if len(output.shape) == 1:\n",
    "                output = output.reshape(1, *output.shape)\n",
    "\n",
    "            pred = output.argmax(dim=1, keepdim=True)\n",
    "\n",
    "            axes[count].imshow(data[i].cpu().numpy().squeeze(), cmap=\"gray\")\n",
    "            axes[count].set_xticks([])\n",
    "            axes[count].set_yticks([])\n",
    "            axes[count].set_title(\"Predicted {}\".format(pred.item()))\n",
    "\n",
    "            count += 1\n",
    "\n",
    "        if count == n_samples_show:\n",
    "            break\n"
   ]
  }
 ],
 "metadata": {
  "kernelspec": {
   "display_name": "Qenv",
   "language": "python",
   "name": "python3"
  },
  "language_info": {
   "codemirror_mode": {
    "name": "ipython",
    "version": 3
   },
   "file_extension": ".py",
   "mimetype": "text/x-python",
   "name": "python",
   "nbconvert_exporter": "python",
   "pygments_lexer": "ipython3",
   "version": "3.8.19"
  }
 },
 "nbformat": 4,
 "nbformat_minor": 2
}
