{
 "cells": [
  {
   "cell_type": "code",
   "execution_count": 3,
   "metadata": {},
   "outputs": [],
   "source": [
    "import collections\n",
    "import torch\n",
    "from torch import cat, no_grad, manual_seed\n",
    "import torch.nn as nn\n",
    "import torch.utils.data as data\n",
    "import torch.nn.functional as F\n",
    "import tqdm\n",
    "from torchvision import datasets, transforms\n",
    "import matplotlib.pyplot as plt\n",
    "import seaborn as sns\n",
    "import numpy as np\n",
    "\n",
    "from QuICT_ml.ansatz_library import QNNLayer\n",
    "from QuICT_ml.utils.encoding import *\n",
    "from QuICT_ml.utils.ml_utils import *\n",
    "from QuICT_ml.model.QNN import QuantumNet"
   ]
  },
  {
   "cell_type": "code",
   "execution_count": 27,
   "metadata": {},
   "outputs": [],
   "source": [
    "np.random.seed = 42\n",
    "manual_seed(42)\n",
    "EPOCH = 50       # 训练总轮数\n",
    "BATCH_SIZE = 64 # 一次迭代使用的样本数\n",
    "LR = 0.001      # 梯度下降的学习率\n",
    "SEED = 42       # 随机数种子"
   ]
  },
  {
   "cell_type": "code",
   "execution_count": 12,
   "metadata": {},
   "outputs": [
    {
     "name": "stdout",
     "output_type": "stream",
     "text": [
      "Training examples:  2048\n",
      "Testing examples:  1024\n"
     ]
    }
   ],
   "source": [
    "X_train = datasets.MNIST(root=\"./data/\", train=True, download=True)\n",
    "batch_size = 64\n",
    "n_samples = 1024  # We will concentrate on the first 100 samples\n",
    "# 创建一个索引列表，包含所有类别（0-9）的样本\n",
    "idx = []\n",
    "for label in range(2):  # 遍历所有类别（0-9）\n",
    "    label_idx = np.where(X_train.targets == label)[0][:n_samples]  # 获取当前类别的样本索引\n",
    "    idx.append(label_idx)\n",
    "\n",
    "# 将所有类别的索引合并为一个数组\n",
    "idx = np.concatenate(idx)\n",
    "\n",
    "# 根据索引过滤数据\n",
    "X_train.data = X_train.data[idx]\n",
    "X_train.targets = X_train.targets[idx]\n",
    "train_X = X_train.data\n",
    "train_Y = X_train.targets\n",
    "\n",
    "n_samples = 512\n",
    "X_test = datasets.MNIST(root=\"./data/\", train=False, download=True)\n",
    "\n",
    "idx = []\n",
    "for label in range(2):  # 遍历所有类别（0-9）\n",
    "    label_idx = np.where(X_test.targets == label)[0][:n_samples]  # 获取当前类别的样本索引\n",
    "    idx.append(label_idx)\n",
    "\n",
    "# 将所有类别的索引合并为一个数组\n",
    "idx = np.concatenate(idx)\n",
    "\n",
    "# 根据索引过滤数据\n",
    "X_test.data = X_test.data[idx]\n",
    "X_test.targets = X_test.targets[idx]\n",
    "test_X = X_test.data\n",
    "test_Y = X_test.targets\n",
    "print(\"Training examples: \", len(train_Y))\n",
    "print(\"Testing examples: \", len(test_Y))"
   ]
  },
  {
   "cell_type": "code",
   "execution_count": 13,
   "metadata": {},
   "outputs": [
    {
     "name": "stderr",
     "output_type": "stream",
     "text": [
      "c:\\Users\\ly\\.conda\\envs\\Qenv\\lib\\site-packages\\torchvision\\transforms\\functional.py:1603: UserWarning: The default value of the antialias parameter of all the resizing transforms (Resize(), RandomResizedCrop(), etc.) will change from None to True in v0.17, in order to be consistent across the PIL and Tensor backends. To suppress this warning, directly pass antialias=True (recommended, future default), antialias=None (current default, which means False for Tensors and True for PIL), or antialias=False (only works on Tensors - PIL will still use antialiasing). This also applies if you are using the inference transforms from the models weights: update the call to weights.transforms(antialias=True).\n",
      "  warnings.warn(\n"
     ]
    }
   ],
   "source": [
    "def downscale(X, resize):\n",
    "    transform = transforms.Resize(size=resize)\n",
    "    X = transform(X) / 255.0\n",
    "    return X\n",
    "\n",
    "resized_train_X = downscale(train_X, (4, 4))\n",
    "resized_test_X = downscale(test_X, (4, 4))"
   ]
  },
  {
   "cell_type": "code",
   "execution_count": 14,
   "metadata": {},
   "outputs": [
    {
     "name": "stdout",
     "output_type": "stream",
     "text": [
      "Remaining training examples:  1462\n",
      "Remaining testing examples:  629\n"
     ]
    }
   ],
   "source": [
    "def remove_conflict(X, Y, resize):\n",
    "    x_dict = collections.defaultdict(set)\n",
    "    for x, y in zip(X, Y):\n",
    "        x_dict[tuple(x.numpy().flatten())].add(y.item())\n",
    "    X_rmcon = []\n",
    "    Y_rmcon = []\n",
    "    for x in x_dict.keys():\n",
    "        if len(x_dict[x]) == 1:\n",
    "            X_rmcon.append(np.array(x).reshape(resize))\n",
    "            Y_rmcon.append(list(x_dict[x])[0])\n",
    "    X = torch.from_numpy(np.array(X_rmcon))\n",
    "    Y = torch.from_numpy(np.array(Y_rmcon))\n",
    "    return X, Y\n",
    "\n",
    "nocon_train_X, nocon_train_Y = remove_conflict(resized_train_X, train_Y, (4, 4))\n",
    "nocon_test_X, nocon_test_Y = remove_conflict(resized_test_X, test_Y, (4, 4))\n",
    "print(\"Remaining training examples: \", len(nocon_train_Y))\n",
    "print(\"Remaining testing examples: \", len(nocon_test_Y))\n"
   ]
  },
  {
   "cell_type": "code",
   "execution_count": 15,
   "metadata": {},
   "outputs": [],
   "source": [
    "def binary_img(X, threshold):\n",
    "    X = X > threshold\n",
    "    X = X.type(torch.int)\n",
    "    return X\n",
    "\n",
    "threshold = 0.5\n",
    "bin_train_X = binary_img(nocon_train_X, threshold)\n",
    "bin_test_X = binary_img(nocon_test_X, threshold)"
   ]
  },
  {
   "cell_type": "code",
   "execution_count": 16,
   "metadata": {},
   "outputs": [],
   "source": [
    "device = torch.device(\"cuda:0\")\n",
    "\n",
    "train_X = bin_train_X.to(device)\n",
    "train_Y = nocon_train_Y.to(device)\n",
    "test_X = bin_test_X.to(device)\n",
    "test_Y = nocon_test_Y.to(device)"
   ]
  },
  {
   "cell_type": "code",
   "execution_count": 18,
   "metadata": {},
   "outputs": [],
   "source": [
    "def qubit_encoding(X, device):\n",
    "    new_X = []\n",
    "    n_qubits = X[0].shape[0] * X[0].shape[1]\n",
    "    qe = Qubit(n_qubits, device)\n",
    "    for x in X:\n",
    "        qe.encoding(x)\n",
    "        new_X.append(qe.ansatz)\n",
    "    return new_X"
   ]
  },
  {
   "cell_type": "code",
   "execution_count": 19,
   "metadata": {},
   "outputs": [],
   "source": [
    "ansatz_train_X = qubit_encoding(train_X, device)\n",
    "ansatz_test_X = qubit_encoding(test_X, device)"
   ]
  },
  {
   "cell_type": "code",
   "execution_count": 20,
   "metadata": {},
   "outputs": [
    {
     "data": {
      "text/plain": [
       "<Figure size 848.056x645 with 1 Axes>"
      ]
     },
     "metadata": {},
     "output_type": "display_data"
    }
   ],
   "source": [
    "pqc = QNNLayer(list(range(4)), 4, device=device)\n",
    "params = nn.Parameter(torch.rand(1, 4, device=device), requires_grad=True)\n",
    "model_circuit = pqc.circuit_layer([\"XX\"], params)\n",
    "model_circuit.draw()"
   ]
  },
  {
   "cell_type": "code",
   "execution_count": 21,
   "metadata": {},
   "outputs": [],
   "source": [
    "data_qubits = list(range(16))\n",
    "readout_qubit = 16\n",
    "pqc = QNNLayer(data_qubits, readout_qubit, device=device)\n",
    "layers = [\"XX\", \"ZZ\"]\n",
    "params = nn.Parameter(torch.rand(2, 16, device=device), requires_grad=True)\n",
    "model_ansatz = pqc(layers, params)"
   ]
  },
  {
   "cell_type": "code",
   "execution_count": 33,
   "metadata": {},
   "outputs": [],
   "source": [
    "train_dataset = data.TensorDataset(train_X, train_Y)\n",
    "test_dataset = data.TensorDataset(test_X, test_Y)\n",
    "train_loader = data.DataLoader(\n",
    "    dataset=train_dataset, batch_size=BATCH_SIZE, shuffle=True, drop_last=True\n",
    ")\n",
    "test_loader = data.DataLoader(\n",
    "    dataset=test_dataset, batch_size=BATCH_SIZE, shuffle=True, drop_last=True\n",
    ")"
   ]
  },
  {
   "cell_type": "code",
   "execution_count": 24,
   "metadata": {},
   "outputs": [],
   "source": [
    "net = QuantumNet(16, layers, encoding=\"qubit\", device=device)\n",
    "optim = torch.optim.Adam([dict(params=net.parameters(), lr=LR)])"
   ]
  },
  {
   "cell_type": "code",
   "execution_count": 35,
   "metadata": {},
   "outputs": [],
   "source": [
    "def loss_func(y_true, y_pred):\n",
    "    y_true = 2 * y_true.type(torch.float32) - 1.0\n",
    "    y_pred = 2 * y_pred - 1.0\n",
    "    loss = torch.clamp(1 - y_pred * y_true, min=0.0)\n",
    "    correct = torch.where(y_true * y_pred > 0)[0].shape[0]\n",
    "    return torch.mean(loss), correct"
   ]
  },
  {
   "cell_type": "code",
   "execution_count": 36,
   "metadata": {},
   "outputs": [
    {
     "name": "stderr",
     "output_type": "stream",
     "text": [
      "Training epoch 1: 100%|██████████| 22/22 [06:46<00:00, 18.48s/it, accuracy=0.578, it=21, loss=0.881]\n",
      "Validating epoch 1: 100%|██████████| 9/9 [02:47<00:00, 18.57s/it, accuracy=0.547, it=8, loss=0.950]\n"
     ]
    },
    {
     "name": "stdout",
     "output_type": "stream",
     "text": [
      "Validation Average Loss: 0.9631057381629944, Accuracy: 0.5416666666666666\n"
     ]
    },
    {
     "name": "stderr",
     "output_type": "stream",
     "text": [
      "Training epoch 2: 100%|██████████| 22/22 [06:48<00:00, 18.59s/it, accuracy=0.688, it=21, loss=0.866]\n",
      "Validating epoch 2: 100%|██████████| 9/9 [02:47<00:00, 18.59s/it, accuracy=0.594, it=8, loss=0.915]\n"
     ]
    },
    {
     "name": "stdout",
     "output_type": "stream",
     "text": [
      "Validation Average Loss: 0.8825179934501648, Accuracy: 0.6145833333333334\n"
     ]
    },
    {
     "name": "stderr",
     "output_type": "stream",
     "text": [
      "Training epoch 3: 100%|██████████| 22/22 [06:48<00:00, 18.56s/it, accuracy=0.828, it=21, loss=0.786]\n",
      "Validating epoch 3: 100%|██████████| 9/9 [02:47<00:00, 18.58s/it, accuracy=0.766, it=8, loss=0.809]\n"
     ]
    },
    {
     "name": "stdout",
     "output_type": "stream",
     "text": [
      "Validation Average Loss: 0.82808518409729, Accuracy: 0.7482638888888888\n"
     ]
    },
    {
     "name": "stderr",
     "output_type": "stream",
     "text": [
      "Training epoch 4: 100%|██████████| 22/22 [06:44<00:00, 18.41s/it, accuracy=0.781, it=21, loss=0.775]\n",
      "Validating epoch 4: 100%|██████████| 9/9 [02:27<00:00, 16.40s/it, accuracy=0.781, it=8, loss=0.759]\n"
     ]
    },
    {
     "name": "stdout",
     "output_type": "stream",
     "text": [
      "Validation Average Loss: 0.7848742604255676, Accuracy: 0.7430555555555556\n"
     ]
    },
    {
     "name": "stderr",
     "output_type": "stream",
     "text": [
      "Training epoch 5: 100%|██████████| 22/22 [06:01<00:00, 16.41s/it, accuracy=0.766, it=21, loss=0.720]\n",
      "Validating epoch 5: 100%|██████████| 9/9 [02:27<00:00, 16.37s/it, accuracy=0.688, it=8, loss=0.811]\n"
     ]
    },
    {
     "name": "stdout",
     "output_type": "stream",
     "text": [
      "Validation Average Loss: 0.7364639639854431, Accuracy: 0.7534722222222222\n"
     ]
    },
    {
     "name": "stderr",
     "output_type": "stream",
     "text": [
      "Training epoch 6: 100%|██████████| 22/22 [06:01<00:00, 16.42s/it, accuracy=0.781, it=21, loss=0.666]\n",
      "Validating epoch 6: 100%|██████████| 9/9 [02:27<00:00, 16.40s/it, accuracy=0.750, it=8, loss=0.689]\n"
     ]
    },
    {
     "name": "stdout",
     "output_type": "stream",
     "text": [
      "Validation Average Loss: 0.7043659687042236, Accuracy: 0.7534722222222222\n"
     ]
    },
    {
     "name": "stderr",
     "output_type": "stream",
     "text": [
      "Training epoch 7: 100%|██████████| 22/22 [06:01<00:00, 16.42s/it, accuracy=0.781, it=21, loss=0.615]\n",
      "Validating epoch 7: 100%|██████████| 9/9 [02:27<00:00, 16.44s/it, accuracy=0.750, it=8, loss=0.686]\n"
     ]
    },
    {
     "name": "stdout",
     "output_type": "stream",
     "text": [
      "Validation Average Loss: 0.690216064453125, Accuracy: 0.75\n"
     ]
    },
    {
     "name": "stderr",
     "output_type": "stream",
     "text": [
      "Training epoch 8: 100%|██████████| 22/22 [05:46<00:00, 15.75s/it, accuracy=0.750, it=21, loss=0.658]\n",
      "Validating epoch 8: 100%|██████████| 9/9 [02:16<00:00, 15.17s/it, accuracy=0.750, it=8, loss=0.694]\n"
     ]
    },
    {
     "name": "stdout",
     "output_type": "stream",
     "text": [
      "Validation Average Loss: 0.6622174382209778, Accuracy: 0.7569444444444444\n"
     ]
    },
    {
     "name": "stderr",
     "output_type": "stream",
     "text": [
      "Training epoch 9: 100%|██████████| 22/22 [05:32<00:00, 15.12s/it, accuracy=0.781, it=21, loss=0.633]\n",
      "Validating epoch 9: 100%|██████████| 9/9 [02:16<00:00, 15.13s/it, accuracy=0.766, it=8, loss=0.597]\n"
     ]
    },
    {
     "name": "stdout",
     "output_type": "stream",
     "text": [
      "Validation Average Loss: 0.6417844891548157, Accuracy: 0.765625\n"
     ]
    },
    {
     "name": "stderr",
     "output_type": "stream",
     "text": [
      "Training epoch 10: 100%|██████████| 22/22 [05:34<00:00, 15.19s/it, accuracy=0.719, it=21, loss=0.678]\n",
      "Validating epoch 10: 100%|██████████| 9/9 [02:16<00:00, 15.19s/it, accuracy=0.781, it=8, loss=0.596]\n"
     ]
    },
    {
     "name": "stdout",
     "output_type": "stream",
     "text": [
      "Validation Average Loss: 0.6441090106964111, Accuracy: 0.7534722222222222\n"
     ]
    },
    {
     "name": "stderr",
     "output_type": "stream",
     "text": [
      "Training epoch 11: 100%|██████████| 22/22 [05:33<00:00, 15.17s/it, accuracy=0.766, it=21, loss=0.630]\n",
      "Validating epoch 11: 100%|██████████| 9/9 [02:16<00:00, 15.21s/it, accuracy=0.703, it=8, loss=0.660]\n"
     ]
    },
    {
     "name": "stdout",
     "output_type": "stream",
     "text": [
      "Validation Average Loss: 0.6095855236053467, Accuracy: 0.7673611111111112\n"
     ]
    },
    {
     "name": "stderr",
     "output_type": "stream",
     "text": [
      "Training epoch 12: 100%|██████████| 22/22 [05:39<00:00, 15.44s/it, accuracy=0.859, it=21, loss=0.538]\n",
      "Validating epoch 12: 100%|██████████| 9/9 [02:17<00:00, 15.28s/it, accuracy=0.812, it=8, loss=0.539]\n"
     ]
    },
    {
     "name": "stdout",
     "output_type": "stream",
     "text": [
      "Validation Average Loss: 0.6099399924278259, Accuracy: 0.7569444444444444\n"
     ]
    },
    {
     "name": "stderr",
     "output_type": "stream",
     "text": [
      "Training epoch 13: 100%|██████████| 22/22 [05:31<00:00, 15.06s/it, accuracy=0.703, it=21, loss=0.677]\n",
      "Validating epoch 13: 100%|██████████| 9/9 [02:17<00:00, 15.24s/it, accuracy=0.766, it=8, loss=0.596]\n"
     ]
    },
    {
     "name": "stdout",
     "output_type": "stream",
     "text": [
      "Validation Average Loss: 0.6009268760681152, Accuracy: 0.7586805555555556\n"
     ]
    },
    {
     "name": "stderr",
     "output_type": "stream",
     "text": [
      "Training epoch 14: 100%|██████████| 22/22 [05:35<00:00, 15.25s/it, accuracy=0.812, it=21, loss=0.531]\n",
      "Validating epoch 14: 100%|██████████| 9/9 [02:15<00:00, 15.07s/it, accuracy=0.766, it=8, loss=0.607]\n"
     ]
    },
    {
     "name": "stdout",
     "output_type": "stream",
     "text": [
      "Validation Average Loss: 0.5798186659812927, Accuracy: 0.765625\n"
     ]
    },
    {
     "name": "stderr",
     "output_type": "stream",
     "text": [
      "Training epoch 15: 100%|██████████| 22/22 [05:32<00:00, 15.12s/it, accuracy=0.812, it=21, loss=0.517]\n",
      "Validating epoch 15: 100%|██████████| 9/9 [02:17<00:00, 15.25s/it, accuracy=0.844, it=8, loss=0.467]\n"
     ]
    },
    {
     "name": "stdout",
     "output_type": "stream",
     "text": [
      "Validation Average Loss: 0.5966569781303406, Accuracy: 0.75\n"
     ]
    },
    {
     "name": "stderr",
     "output_type": "stream",
     "text": [
      "Training epoch 16: 100%|██████████| 22/22 [05:32<00:00, 15.11s/it, accuracy=0.781, it=21, loss=0.538]\n",
      "Validating epoch 16: 100%|██████████| 9/9 [02:17<00:00, 15.30s/it, accuracy=0.766, it=8, loss=0.582]\n"
     ]
    },
    {
     "name": "stdout",
     "output_type": "stream",
     "text": [
      "Validation Average Loss: 0.5938238501548767, Accuracy: 0.7482638888888888\n"
     ]
    },
    {
     "name": "stderr",
     "output_type": "stream",
     "text": [
      "Training epoch 17: 100%|██████████| 22/22 [05:32<00:00, 15.09s/it, accuracy=0.719, it=21, loss=0.655]\n",
      "Validating epoch 17: 100%|██████████| 9/9 [02:16<00:00, 15.18s/it, accuracy=0.797, it=8, loss=0.532]\n"
     ]
    },
    {
     "name": "stdout",
     "output_type": "stream",
     "text": [
      "Validation Average Loss: 0.5877219438552856, Accuracy: 0.7517361111111112\n"
     ]
    },
    {
     "name": "stderr",
     "output_type": "stream",
     "text": [
      "Training epoch 18: 100%|██████████| 22/22 [05:32<00:00, 15.11s/it, accuracy=0.781, it=21, loss=0.546]\n",
      "Validating epoch 18: 100%|██████████| 9/9 [02:18<00:00, 15.38s/it, accuracy=0.797, it=8, loss=0.538]\n"
     ]
    },
    {
     "name": "stdout",
     "output_type": "stream",
     "text": [
      "Validation Average Loss: 0.5777895450592041, Accuracy: 0.7534722222222222\n"
     ]
    },
    {
     "name": "stderr",
     "output_type": "stream",
     "text": [
      "Training epoch 19: 100%|██████████| 22/22 [05:36<00:00, 15.29s/it, accuracy=0.781, it=21, loss=0.528]\n",
      "Validating epoch 19: 100%|██████████| 9/9 [02:18<00:00, 15.40s/it, accuracy=0.703, it=8, loss=0.620]\n"
     ]
    },
    {
     "name": "stdout",
     "output_type": "stream",
     "text": [
      "Validation Average Loss: 0.5636030435562134, Accuracy: 0.7569444444444444\n"
     ]
    },
    {
     "name": "stderr",
     "output_type": "stream",
     "text": [
      "Training epoch 20: 100%|██████████| 22/22 [05:33<00:00, 15.14s/it, accuracy=0.719, it=21, loss=0.615]\n",
      "Validating epoch 20: 100%|██████████| 9/9 [02:16<00:00, 15.15s/it, accuracy=0.750, it=8, loss=0.624]\n"
     ]
    },
    {
     "name": "stdout",
     "output_type": "stream",
     "text": [
      "Validation Average Loss: 0.5698352456092834, Accuracy: 0.7517361111111112\n"
     ]
    },
    {
     "name": "stderr",
     "output_type": "stream",
     "text": [
      "Training epoch 21: 100%|██████████| 22/22 [05:34<00:00, 15.19s/it, accuracy=0.750, it=21, loss=0.548]\n",
      "Validating epoch 21: 100%|██████████| 9/9 [02:17<00:00, 15.31s/it, accuracy=0.781, it=8, loss=0.508]\n"
     ]
    },
    {
     "name": "stdout",
     "output_type": "stream",
     "text": [
      "Validation Average Loss: 0.5708842873573303, Accuracy: 0.7534722222222222\n"
     ]
    },
    {
     "name": "stderr",
     "output_type": "stream",
     "text": [
      "Training epoch 22: 100%|██████████| 22/22 [05:33<00:00, 15.14s/it, accuracy=0.797, it=21, loss=0.446]\n",
      "Validating epoch 22: 100%|██████████| 9/9 [02:17<00:00, 15.24s/it, accuracy=0.797, it=8, loss=0.504]\n"
     ]
    },
    {
     "name": "stdout",
     "output_type": "stream",
     "text": [
      "Validation Average Loss: 0.5518158674240112, Accuracy: 0.7638888888888888\n"
     ]
    },
    {
     "name": "stderr",
     "output_type": "stream",
     "text": [
      "Training epoch 23: 100%|██████████| 22/22 [05:29<00:00, 14.98s/it, accuracy=0.812, it=21, loss=0.473]\n",
      "Validating epoch 23: 100%|██████████| 9/9 [02:16<00:00, 15.18s/it, accuracy=0.766, it=8, loss=0.576]\n"
     ]
    },
    {
     "name": "stdout",
     "output_type": "stream",
     "text": [
      "Validation Average Loss: 0.5694606900215149, Accuracy: 0.7517361111111112\n"
     ]
    },
    {
     "name": "stderr",
     "output_type": "stream",
     "text": [
      "Training epoch 24: 100%|██████████| 22/22 [05:30<00:00, 15.02s/it, accuracy=0.859, it=21, loss=0.376]\n",
      "Validating epoch 24: 100%|██████████| 9/9 [02:16<00:00, 15.16s/it, accuracy=0.766, it=8, loss=0.549]\n"
     ]
    },
    {
     "name": "stdout",
     "output_type": "stream",
     "text": [
      "Validation Average Loss: 0.5571860074996948, Accuracy: 0.7569444444444444\n"
     ]
    },
    {
     "name": "stderr",
     "output_type": "stream",
     "text": [
      "Training epoch 25: 100%|██████████| 22/22 [05:34<00:00, 15.18s/it, accuracy=0.766, it=21, loss=0.513]\n",
      "Validating epoch 25: 100%|██████████| 9/9 [02:19<00:00, 15.48s/it, accuracy=0.703, it=8, loss=0.674]\n"
     ]
    },
    {
     "name": "stdout",
     "output_type": "stream",
     "text": [
      "Validation Average Loss: 0.558228611946106, Accuracy: 0.7569444444444444\n"
     ]
    },
    {
     "name": "stderr",
     "output_type": "stream",
     "text": [
      "Training epoch 26: 100%|██████████| 22/22 [05:32<00:00, 15.11s/it, accuracy=0.781, it=21, loss=0.527]\n",
      "Validating epoch 26: 100%|██████████| 9/9 [02:17<00:00, 15.32s/it, accuracy=0.781, it=8, loss=0.530]\n"
     ]
    },
    {
     "name": "stdout",
     "output_type": "stream",
     "text": [
      "Validation Average Loss: 0.5427374839782715, Accuracy: 0.7673611111111112\n"
     ]
    },
    {
     "name": "stderr",
     "output_type": "stream",
     "text": [
      "Training epoch 27: 100%|██████████| 22/22 [05:35<00:00, 15.24s/it, accuracy=0.781, it=21, loss=0.499]\n",
      "Validating epoch 27: 100%|██████████| 9/9 [02:16<00:00, 15.20s/it, accuracy=0.828, it=8, loss=0.434]\n"
     ]
    },
    {
     "name": "stdout",
     "output_type": "stream",
     "text": [
      "Validation Average Loss: 0.5501111745834351, Accuracy: 0.7638888888888888\n"
     ]
    },
    {
     "name": "stderr",
     "output_type": "stream",
     "text": [
      "Training epoch 28: 100%|██████████| 22/22 [05:34<00:00, 15.22s/it, accuracy=0.734, it=21, loss=0.546]\n",
      "Validating epoch 28: 100%|██████████| 9/9 [02:16<00:00, 15.13s/it, accuracy=0.750, it=8, loss=0.551]\n"
     ]
    },
    {
     "name": "stdout",
     "output_type": "stream",
     "text": [
      "Validation Average Loss: 0.5559328198432922, Accuracy: 0.7552083333333334\n"
     ]
    },
    {
     "name": "stderr",
     "output_type": "stream",
     "text": [
      "Training epoch 29: 100%|██████████| 22/22 [05:34<00:00, 15.19s/it, accuracy=0.797, it=21, loss=0.428]\n",
      "Validating epoch 29: 100%|██████████| 9/9 [02:18<00:00, 15.38s/it, accuracy=0.719, it=8, loss=0.620]\n"
     ]
    },
    {
     "name": "stdout",
     "output_type": "stream",
     "text": [
      "Validation Average Loss: 0.5573146939277649, Accuracy: 0.7552083333333334\n"
     ]
    },
    {
     "name": "stderr",
     "output_type": "stream",
     "text": [
      "Training epoch 30: 100%|██████████| 22/22 [05:34<00:00, 15.22s/it, accuracy=0.797, it=21, loss=0.439]\n",
      "Validating epoch 30: 100%|██████████| 9/9 [02:18<00:00, 15.42s/it, accuracy=0.641, it=8, loss=0.708]\n"
     ]
    },
    {
     "name": "stdout",
     "output_type": "stream",
     "text": [
      "Validation Average Loss: 0.566136360168457, Accuracy: 0.7482638888888888\n"
     ]
    },
    {
     "name": "stderr",
     "output_type": "stream",
     "text": [
      "Training epoch 31: 100%|██████████| 22/22 [05:34<00:00, 15.19s/it, accuracy=0.844, it=21, loss=0.336]\n",
      "Validating epoch 31: 100%|██████████| 9/9 [02:16<00:00, 15.14s/it, accuracy=0.688, it=8, loss=0.691]\n"
     ]
    },
    {
     "name": "stdout",
     "output_type": "stream",
     "text": [
      "Validation Average Loss: 0.5548200607299805, Accuracy: 0.7569444444444444\n"
     ]
    },
    {
     "name": "stderr",
     "output_type": "stream",
     "text": [
      "Training epoch 32: 100%|██████████| 22/22 [05:41<00:00, 15.53s/it, accuracy=0.859, it=21, loss=0.406]\n",
      "Validating epoch 32: 100%|██████████| 9/9 [02:38<00:00, 17.61s/it, accuracy=0.781, it=8, loss=0.546]\n"
     ]
    },
    {
     "name": "stdout",
     "output_type": "stream",
     "text": [
      "Validation Average Loss: 0.5477726459503174, Accuracy: 0.7604166666666666\n"
     ]
    },
    {
     "name": "stderr",
     "output_type": "stream",
     "text": [
      "Training epoch 33: 100%|██████████| 22/22 [11:26<00:00, 31.19s/it, accuracy=0.797, it=21, loss=0.485]\n",
      "Validating epoch 33: 100%|██████████| 9/9 [06:14<00:00, 41.57s/it, accuracy=0.828, it=8, loss=0.409]\n"
     ]
    },
    {
     "name": "stdout",
     "output_type": "stream",
     "text": [
      "Validation Average Loss: 0.5467122197151184, Accuracy: 0.7569444444444444\n"
     ]
    },
    {
     "name": "stderr",
     "output_type": "stream",
     "text": [
      "Training epoch 34: 100%|██████████| 22/22 [18:32<00:00, 50.57s/it, accuracy=0.828, it=21, loss=0.382]\n",
      "Validating epoch 34: 100%|██████████| 9/9 [09:55<00:00, 66.16s/it, accuracy=0.812, it=8, loss=0.468]\n"
     ]
    },
    {
     "name": "stdout",
     "output_type": "stream",
     "text": [
      "Validation Average Loss: 0.5385504961013794, Accuracy: 0.7638888888888888\n"
     ]
    },
    {
     "name": "stderr",
     "output_type": "stream",
     "text": [
      "Training epoch 35: 100%|██████████| 22/22 [28:52<00:00, 78.74s/it, accuracy=0.844, it=21, loss=0.382]\n",
      "Validating epoch 35: 100%|██████████| 9/9 [15:42<00:00, 104.73s/it, accuracy=0.797, it=8, loss=0.501]\n"
     ]
    },
    {
     "name": "stdout",
     "output_type": "stream",
     "text": [
      "Validation Average Loss: 0.5439577102661133, Accuracy: 0.7604166666666666\n"
     ]
    },
    {
     "name": "stderr",
     "output_type": "stream",
     "text": [
      "Training epoch 36: 100%|██████████| 22/22 [37:11<00:00, 101.44s/it, accuracy=0.750, it=21, loss=0.568]\n",
      "Validating epoch 36: 100%|██████████| 9/9 [15:24<00:00, 102.67s/it, accuracy=0.719, it=8, loss=0.635]\n"
     ]
    },
    {
     "name": "stdout",
     "output_type": "stream",
     "text": [
      "Validation Average Loss: 0.533050000667572, Accuracy: 0.765625\n"
     ]
    },
    {
     "name": "stderr",
     "output_type": "stream",
     "text": [
      "Training epoch 37: 100%|██████████| 22/22 [37:19<00:00, 101.78s/it, accuracy=0.828, it=21, loss=0.449]\n",
      "Validating epoch 37: 100%|██████████| 9/9 [15:39<00:00, 104.36s/it, accuracy=0.812, it=8, loss=0.510]\n"
     ]
    },
    {
     "name": "stdout",
     "output_type": "stream",
     "text": [
      "Validation Average Loss: 0.528014063835144, Accuracy: 0.7690972222222222\n"
     ]
    },
    {
     "name": "stderr",
     "output_type": "stream",
     "text": [
      "Training epoch 38: 100%|██████████| 22/22 [37:29<00:00, 102.27s/it, accuracy=0.781, it=21, loss=0.457]\n",
      "Validating epoch 38: 100%|██████████| 9/9 [15:11<00:00, 101.24s/it, accuracy=0.750, it=8, loss=0.562]\n"
     ]
    },
    {
     "name": "stdout",
     "output_type": "stream",
     "text": [
      "Validation Average Loss: 0.5430059432983398, Accuracy: 0.7604166666666666\n"
     ]
    },
    {
     "name": "stderr",
     "output_type": "stream",
     "text": [
      "Training epoch 39: 100%|██████████| 22/22 [37:50<00:00, 103.22s/it, accuracy=0.797, it=21, loss=0.412]\n",
      "Validating epoch 39: 100%|██████████| 9/9 [14:47<00:00, 98.62s/it, accuracy=0.688, it=8, loss=0.644] \n"
     ]
    },
    {
     "name": "stdout",
     "output_type": "stream",
     "text": [
      "Validation Average Loss: 0.5509097576141357, Accuracy: 0.7552083333333334\n"
     ]
    },
    {
     "name": "stderr",
     "output_type": "stream",
     "text": [
      "Training epoch 40: 100%|██████████| 22/22 [37:58<00:00, 103.56s/it, accuracy=0.891, it=21, loss=0.361]\n",
      "Validating epoch 40: 100%|██████████| 9/9 [15:09<00:00, 101.07s/it, accuracy=0.859, it=8, loss=0.429]\n"
     ]
    },
    {
     "name": "stdout",
     "output_type": "stream",
     "text": [
      "Validation Average Loss: 0.5355576276779175, Accuracy: 0.7760416666666666\n"
     ]
    },
    {
     "name": "stderr",
     "output_type": "stream",
     "text": [
      "Training epoch 41: 100%|██████████| 22/22 [37:09<00:00, 101.32s/it, accuracy=0.781, it=21, loss=0.499]\n",
      "Validating epoch 41: 100%|██████████| 9/9 [15:34<00:00, 103.87s/it, accuracy=0.781, it=8, loss=0.554]\n"
     ]
    },
    {
     "name": "stdout",
     "output_type": "stream",
     "text": [
      "Validation Average Loss: 0.5570106506347656, Accuracy: 0.7638888888888888\n"
     ]
    },
    {
     "name": "stderr",
     "output_type": "stream",
     "text": [
      "Training epoch 42: 100%|██████████| 22/22 [36:09<00:00, 98.60s/it, accuracy=0.859, it=21, loss=0.378] \n",
      "Validating epoch 42: 100%|██████████| 9/9 [15:44<00:00, 104.93s/it, accuracy=0.797, it=8, loss=0.448]\n"
     ]
    },
    {
     "name": "stdout",
     "output_type": "stream",
     "text": [
      "Validation Average Loss: 0.5389440059661865, Accuracy: 0.7708333333333334\n"
     ]
    },
    {
     "name": "stderr",
     "output_type": "stream",
     "text": [
      "Training epoch 43: 100%|██████████| 22/22 [38:08<00:00, 104.03s/it, accuracy=0.812, it=21, loss=0.419]\n",
      "Validating epoch 43: 100%|██████████| 9/9 [15:03<00:00, 100.39s/it, accuracy=0.828, it=8, loss=0.449]\n"
     ]
    },
    {
     "name": "stdout",
     "output_type": "stream",
     "text": [
      "Validation Average Loss: 0.533496081829071, Accuracy: 0.7743055555555556\n"
     ]
    },
    {
     "name": "stderr",
     "output_type": "stream",
     "text": [
      "Training epoch 44: 100%|██████████| 22/22 [38:06<00:00, 103.92s/it, accuracy=0.812, it=21, loss=0.432]\n",
      "Validating epoch 44: 100%|██████████| 9/9 [15:32<00:00, 103.66s/it, accuracy=0.844, it=8, loss=0.443]\n"
     ]
    },
    {
     "name": "stdout",
     "output_type": "stream",
     "text": [
      "Validation Average Loss: 0.533491849899292, Accuracy: 0.7725694444444444\n"
     ]
    },
    {
     "name": "stderr",
     "output_type": "stream",
     "text": [
      "Training epoch 45: 100%|██████████| 22/22 [37:32<00:00, 102.38s/it, accuracy=0.812, it=21, loss=0.414]\n",
      "Validating epoch 45: 100%|██████████| 9/9 [15:22<00:00, 102.53s/it, accuracy=0.797, it=8, loss=0.507]\n"
     ]
    },
    {
     "name": "stdout",
     "output_type": "stream",
     "text": [
      "Validation Average Loss: 0.5345349907875061, Accuracy: 0.7743055555555556\n"
     ]
    },
    {
     "name": "stderr",
     "output_type": "stream",
     "text": [
      "Training epoch 46: 100%|██████████| 22/22 [37:33<00:00, 102.41s/it, accuracy=0.875, it=21, loss=0.356]\n",
      "Validating epoch 46:  78%|███████▊  | 7/9 [13:04<04:00, 120.18s/it, accuracy=0.859, it=6, loss=0.411]"
     ]
    }
   ],
   "source": [
    "# train epoch\n",
    "for ep in range(EPOCH):\n",
    "    net.train()\n",
    "    loader = tqdm.tqdm(\n",
    "        train_loader, desc=\"Training epoch {}\".format(ep + 1), leave=True\n",
    "    )\n",
    "    # train iteration\n",
    "    for it, (x_train, y_train) in enumerate(loader):\n",
    "        optim.zero_grad()\n",
    "        y_pred = net(x_train)\n",
    "\n",
    "        loss, correct = loss_func(y_train, y_pred)\n",
    "        accuracy = correct / len(y_train)\n",
    "        loss.backward()\n",
    "        optim.step()\n",
    "        loader.set_postfix(\n",
    "            it=it,\n",
    "            loss=\"{:.3f}\".format(loss),\n",
    "            accuracy=\"{:.3f}\".format(accuracy),\n",
    "        )\n",
    "\n",
    "    # Validation\n",
    "    net.eval()\n",
    "    loader_val = tqdm.tqdm(\n",
    "        test_loader, desc=\"Validating epoch {}\".format(ep + 1), leave=True\n",
    "    )\n",
    "    loss_val_list = []\n",
    "    total_correct = 0\n",
    "    for it, (x_test, y_test) in enumerate(loader_val):\n",
    "        y_pred = net(x_test)\n",
    "        loss_val, correct = loss_func(y_test, y_pred)\n",
    "        loss_val_list.append(loss_val.cpu().detach().numpy())\n",
    "        total_correct += correct\n",
    "        accuracy_val = correct / len(y_test)\n",
    "        loader_val.set_postfix(\n",
    "            it=it,\n",
    "            loss=\"{:.3f}\".format(loss_val),\n",
    "            accuracy=\"{:.3f}\".format(accuracy_val),\n",
    "        )\n",
    "    avg_loss = np.mean(loss_val_list)\n",
    "    avg_acc = total_correct / (len(loader_val) * BATCH_SIZE)\n",
    "    print(\"Validation Average Loss: {}, Accuracy: {}\".format(avg_loss, avg_acc))"
   ]
  }
 ],
 "metadata": {
  "kernelspec": {
   "display_name": "Qenv",
   "language": "python",
   "name": "python3"
  },
  "language_info": {
   "codemirror_mode": {
    "name": "ipython",
    "version": 3
   },
   "file_extension": ".py",
   "mimetype": "text/x-python",
   "name": "python",
   "nbconvert_exporter": "python",
   "pygments_lexer": "ipython3",
   "version": "3.8.19"
  }
 },
 "nbformat": 4,
 "nbformat_minor": 2
}
